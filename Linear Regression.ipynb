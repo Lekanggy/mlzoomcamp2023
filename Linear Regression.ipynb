{
 "cells": [
  {
   "cell_type": "code",
   "execution_count": 1,
   "id": "3d567c51",
   "metadata": {},
   "outputs": [],
   "source": [
    "import pandas as pd\n",
    "import numpy as np"
   ]
  },
  {
   "cell_type": "markdown",
   "id": "413a3640",
   "metadata": {},
   "source": [
    "## Data Preparation"
   ]
  },
  {
   "cell_type": "code",
   "execution_count": 2,
   "id": "02f037d4",
   "metadata": {},
   "outputs": [
    {
     "data": {
      "text/html": [
       "<div>\n",
       "<style scoped>\n",
       "    .dataframe tbody tr th:only-of-type {\n",
       "        vertical-align: middle;\n",
       "    }\n",
       "\n",
       "    .dataframe tbody tr th {\n",
       "        vertical-align: top;\n",
       "    }\n",
       "\n",
       "    .dataframe thead th {\n",
       "        text-align: right;\n",
       "    }\n",
       "</style>\n",
       "<table border=\"1\" class=\"dataframe\">\n",
       "  <thead>\n",
       "    <tr style=\"text-align: right;\">\n",
       "      <th></th>\n",
       "      <th>Make</th>\n",
       "      <th>Model</th>\n",
       "      <th>Year</th>\n",
       "      <th>Engine Fuel Type</th>\n",
       "      <th>Engine HP</th>\n",
       "      <th>Engine Cylinders</th>\n",
       "      <th>Transmission Type</th>\n",
       "      <th>Driven_Wheels</th>\n",
       "      <th>Number of Doors</th>\n",
       "      <th>Market Category</th>\n",
       "      <th>Vehicle Size</th>\n",
       "      <th>Vehicle Style</th>\n",
       "      <th>highway MPG</th>\n",
       "      <th>city mpg</th>\n",
       "      <th>Popularity</th>\n",
       "      <th>MSRP</th>\n",
       "    </tr>\n",
       "  </thead>\n",
       "  <tbody>\n",
       "    <tr>\n",
       "      <th>0</th>\n",
       "      <td>BMW</td>\n",
       "      <td>1 Series M</td>\n",
       "      <td>2011</td>\n",
       "      <td>premium unleaded (required)</td>\n",
       "      <td>335.0</td>\n",
       "      <td>6.0</td>\n",
       "      <td>MANUAL</td>\n",
       "      <td>rear wheel drive</td>\n",
       "      <td>2.0</td>\n",
       "      <td>Factory Tuner,Luxury,High-Performance</td>\n",
       "      <td>Compact</td>\n",
       "      <td>Coupe</td>\n",
       "      <td>26</td>\n",
       "      <td>19</td>\n",
       "      <td>3916</td>\n",
       "      <td>46135</td>\n",
       "    </tr>\n",
       "    <tr>\n",
       "      <th>1</th>\n",
       "      <td>BMW</td>\n",
       "      <td>1 Series</td>\n",
       "      <td>2011</td>\n",
       "      <td>premium unleaded (required)</td>\n",
       "      <td>300.0</td>\n",
       "      <td>6.0</td>\n",
       "      <td>MANUAL</td>\n",
       "      <td>rear wheel drive</td>\n",
       "      <td>2.0</td>\n",
       "      <td>Luxury,Performance</td>\n",
       "      <td>Compact</td>\n",
       "      <td>Convertible</td>\n",
       "      <td>28</td>\n",
       "      <td>19</td>\n",
       "      <td>3916</td>\n",
       "      <td>40650</td>\n",
       "    </tr>\n",
       "    <tr>\n",
       "      <th>2</th>\n",
       "      <td>BMW</td>\n",
       "      <td>1 Series</td>\n",
       "      <td>2011</td>\n",
       "      <td>premium unleaded (required)</td>\n",
       "      <td>300.0</td>\n",
       "      <td>6.0</td>\n",
       "      <td>MANUAL</td>\n",
       "      <td>rear wheel drive</td>\n",
       "      <td>2.0</td>\n",
       "      <td>Luxury,High-Performance</td>\n",
       "      <td>Compact</td>\n",
       "      <td>Coupe</td>\n",
       "      <td>28</td>\n",
       "      <td>20</td>\n",
       "      <td>3916</td>\n",
       "      <td>36350</td>\n",
       "    </tr>\n",
       "    <tr>\n",
       "      <th>3</th>\n",
       "      <td>BMW</td>\n",
       "      <td>1 Series</td>\n",
       "      <td>2011</td>\n",
       "      <td>premium unleaded (required)</td>\n",
       "      <td>230.0</td>\n",
       "      <td>6.0</td>\n",
       "      <td>MANUAL</td>\n",
       "      <td>rear wheel drive</td>\n",
       "      <td>2.0</td>\n",
       "      <td>Luxury,Performance</td>\n",
       "      <td>Compact</td>\n",
       "      <td>Coupe</td>\n",
       "      <td>28</td>\n",
       "      <td>18</td>\n",
       "      <td>3916</td>\n",
       "      <td>29450</td>\n",
       "    </tr>\n",
       "    <tr>\n",
       "      <th>4</th>\n",
       "      <td>BMW</td>\n",
       "      <td>1 Series</td>\n",
       "      <td>2011</td>\n",
       "      <td>premium unleaded (required)</td>\n",
       "      <td>230.0</td>\n",
       "      <td>6.0</td>\n",
       "      <td>MANUAL</td>\n",
       "      <td>rear wheel drive</td>\n",
       "      <td>2.0</td>\n",
       "      <td>Luxury</td>\n",
       "      <td>Compact</td>\n",
       "      <td>Convertible</td>\n",
       "      <td>28</td>\n",
       "      <td>18</td>\n",
       "      <td>3916</td>\n",
       "      <td>34500</td>\n",
       "    </tr>\n",
       "    <tr>\n",
       "      <th>...</th>\n",
       "      <td>...</td>\n",
       "      <td>...</td>\n",
       "      <td>...</td>\n",
       "      <td>...</td>\n",
       "      <td>...</td>\n",
       "      <td>...</td>\n",
       "      <td>...</td>\n",
       "      <td>...</td>\n",
       "      <td>...</td>\n",
       "      <td>...</td>\n",
       "      <td>...</td>\n",
       "      <td>...</td>\n",
       "      <td>...</td>\n",
       "      <td>...</td>\n",
       "      <td>...</td>\n",
       "      <td>...</td>\n",
       "    </tr>\n",
       "    <tr>\n",
       "      <th>11909</th>\n",
       "      <td>Acura</td>\n",
       "      <td>ZDX</td>\n",
       "      <td>2012</td>\n",
       "      <td>premium unleaded (required)</td>\n",
       "      <td>300.0</td>\n",
       "      <td>6.0</td>\n",
       "      <td>AUTOMATIC</td>\n",
       "      <td>all wheel drive</td>\n",
       "      <td>4.0</td>\n",
       "      <td>Crossover,Hatchback,Luxury</td>\n",
       "      <td>Midsize</td>\n",
       "      <td>4dr Hatchback</td>\n",
       "      <td>23</td>\n",
       "      <td>16</td>\n",
       "      <td>204</td>\n",
       "      <td>46120</td>\n",
       "    </tr>\n",
       "    <tr>\n",
       "      <th>11910</th>\n",
       "      <td>Acura</td>\n",
       "      <td>ZDX</td>\n",
       "      <td>2012</td>\n",
       "      <td>premium unleaded (required)</td>\n",
       "      <td>300.0</td>\n",
       "      <td>6.0</td>\n",
       "      <td>AUTOMATIC</td>\n",
       "      <td>all wheel drive</td>\n",
       "      <td>4.0</td>\n",
       "      <td>Crossover,Hatchback,Luxury</td>\n",
       "      <td>Midsize</td>\n",
       "      <td>4dr Hatchback</td>\n",
       "      <td>23</td>\n",
       "      <td>16</td>\n",
       "      <td>204</td>\n",
       "      <td>56670</td>\n",
       "    </tr>\n",
       "    <tr>\n",
       "      <th>11911</th>\n",
       "      <td>Acura</td>\n",
       "      <td>ZDX</td>\n",
       "      <td>2012</td>\n",
       "      <td>premium unleaded (required)</td>\n",
       "      <td>300.0</td>\n",
       "      <td>6.0</td>\n",
       "      <td>AUTOMATIC</td>\n",
       "      <td>all wheel drive</td>\n",
       "      <td>4.0</td>\n",
       "      <td>Crossover,Hatchback,Luxury</td>\n",
       "      <td>Midsize</td>\n",
       "      <td>4dr Hatchback</td>\n",
       "      <td>23</td>\n",
       "      <td>16</td>\n",
       "      <td>204</td>\n",
       "      <td>50620</td>\n",
       "    </tr>\n",
       "    <tr>\n",
       "      <th>11912</th>\n",
       "      <td>Acura</td>\n",
       "      <td>ZDX</td>\n",
       "      <td>2013</td>\n",
       "      <td>premium unleaded (recommended)</td>\n",
       "      <td>300.0</td>\n",
       "      <td>6.0</td>\n",
       "      <td>AUTOMATIC</td>\n",
       "      <td>all wheel drive</td>\n",
       "      <td>4.0</td>\n",
       "      <td>Crossover,Hatchback,Luxury</td>\n",
       "      <td>Midsize</td>\n",
       "      <td>4dr Hatchback</td>\n",
       "      <td>23</td>\n",
       "      <td>16</td>\n",
       "      <td>204</td>\n",
       "      <td>50920</td>\n",
       "    </tr>\n",
       "    <tr>\n",
       "      <th>11913</th>\n",
       "      <td>Lincoln</td>\n",
       "      <td>Zephyr</td>\n",
       "      <td>2006</td>\n",
       "      <td>regular unleaded</td>\n",
       "      <td>221.0</td>\n",
       "      <td>6.0</td>\n",
       "      <td>AUTOMATIC</td>\n",
       "      <td>front wheel drive</td>\n",
       "      <td>4.0</td>\n",
       "      <td>Luxury</td>\n",
       "      <td>Midsize</td>\n",
       "      <td>Sedan</td>\n",
       "      <td>26</td>\n",
       "      <td>17</td>\n",
       "      <td>61</td>\n",
       "      <td>28995</td>\n",
       "    </tr>\n",
       "  </tbody>\n",
       "</table>\n",
       "<p>11914 rows × 16 columns</p>\n",
       "</div>"
      ],
      "text/plain": [
       "          Make       Model  Year                Engine Fuel Type  Engine HP  \\\n",
       "0          BMW  1 Series M  2011     premium unleaded (required)      335.0   \n",
       "1          BMW    1 Series  2011     premium unleaded (required)      300.0   \n",
       "2          BMW    1 Series  2011     premium unleaded (required)      300.0   \n",
       "3          BMW    1 Series  2011     premium unleaded (required)      230.0   \n",
       "4          BMW    1 Series  2011     premium unleaded (required)      230.0   \n",
       "...        ...         ...   ...                             ...        ...   \n",
       "11909    Acura         ZDX  2012     premium unleaded (required)      300.0   \n",
       "11910    Acura         ZDX  2012     premium unleaded (required)      300.0   \n",
       "11911    Acura         ZDX  2012     premium unleaded (required)      300.0   \n",
       "11912    Acura         ZDX  2013  premium unleaded (recommended)      300.0   \n",
       "11913  Lincoln      Zephyr  2006                regular unleaded      221.0   \n",
       "\n",
       "       Engine Cylinders Transmission Type      Driven_Wheels  Number of Doors  \\\n",
       "0                   6.0            MANUAL   rear wheel drive              2.0   \n",
       "1                   6.0            MANUAL   rear wheel drive              2.0   \n",
       "2                   6.0            MANUAL   rear wheel drive              2.0   \n",
       "3                   6.0            MANUAL   rear wheel drive              2.0   \n",
       "4                   6.0            MANUAL   rear wheel drive              2.0   \n",
       "...                 ...               ...                ...              ...   \n",
       "11909               6.0         AUTOMATIC    all wheel drive              4.0   \n",
       "11910               6.0         AUTOMATIC    all wheel drive              4.0   \n",
       "11911               6.0         AUTOMATIC    all wheel drive              4.0   \n",
       "11912               6.0         AUTOMATIC    all wheel drive              4.0   \n",
       "11913               6.0         AUTOMATIC  front wheel drive              4.0   \n",
       "\n",
       "                             Market Category Vehicle Size  Vehicle Style  \\\n",
       "0      Factory Tuner,Luxury,High-Performance      Compact          Coupe   \n",
       "1                         Luxury,Performance      Compact    Convertible   \n",
       "2                    Luxury,High-Performance      Compact          Coupe   \n",
       "3                         Luxury,Performance      Compact          Coupe   \n",
       "4                                     Luxury      Compact    Convertible   \n",
       "...                                      ...          ...            ...   \n",
       "11909             Crossover,Hatchback,Luxury      Midsize  4dr Hatchback   \n",
       "11910             Crossover,Hatchback,Luxury      Midsize  4dr Hatchback   \n",
       "11911             Crossover,Hatchback,Luxury      Midsize  4dr Hatchback   \n",
       "11912             Crossover,Hatchback,Luxury      Midsize  4dr Hatchback   \n",
       "11913                                 Luxury      Midsize          Sedan   \n",
       "\n",
       "       highway MPG  city mpg  Popularity   MSRP  \n",
       "0               26        19        3916  46135  \n",
       "1               28        19        3916  40650  \n",
       "2               28        20        3916  36350  \n",
       "3               28        18        3916  29450  \n",
       "4               28        18        3916  34500  \n",
       "...            ...       ...         ...    ...  \n",
       "11909           23        16         204  46120  \n",
       "11910           23        16         204  56670  \n",
       "11911           23        16         204  50620  \n",
       "11912           23        16         204  50920  \n",
       "11913           26        17          61  28995  \n",
       "\n",
       "[11914 rows x 16 columns]"
      ]
     },
     "execution_count": 2,
     "metadata": {},
     "output_type": "execute_result"
    }
   ],
   "source": [
    "car = pd.read_csv('data.csv')\n",
    "car"
   ]
  },
  {
   "cell_type": "code",
   "execution_count": 3,
   "id": "bf775d48",
   "metadata": {},
   "outputs": [
    {
     "data": {
      "text/plain": [
       "Index(['make', 'model', 'year', 'engine_fuel_type', 'engine_hp',\n",
       "       'engine_cylinders', 'transmission_type', 'driven_wheels',\n",
       "       'number_of_doors', 'market_category', 'vehicle_size', 'vehicle_style',\n",
       "       'highway_mpg', 'city_mpg', 'popularity', 'msrp'],\n",
       "      dtype='object')"
      ]
     },
     "execution_count": 3,
     "metadata": {},
     "output_type": "execute_result"
    }
   ],
   "source": [
    "#Clean the colum by\n",
    "# Select on the object colum\n",
    "# change all to lower case\n",
    "# replace space wit '_'\n",
    "\n",
    "car.columns = car.columns.str.lower().str.replace(' ', '_')\n",
    "car.columns"
   ]
  },
  {
   "cell_type": "code",
   "execution_count": 4,
   "id": "11d5de59",
   "metadata": {},
   "outputs": [
    {
     "data": {
      "text/plain": [
       "['make',\n",
       " 'model',\n",
       " 'engine_fuel_type',\n",
       " 'transmission_type',\n",
       " 'driven_wheels',\n",
       " 'market_category',\n",
       " 'vehicle_size',\n",
       " 'vehicle_style']"
      ]
     },
     "execution_count": 4,
     "metadata": {},
     "output_type": "execute_result"
    }
   ],
   "source": [
    "#Select only the columns objhect and store back to list\n",
    "strings = list(car.dtypes[car.dtypes == 'object'].index)\n",
    "strings"
   ]
  },
  {
   "cell_type": "code",
   "execution_count": 5,
   "id": "6c775b9c",
   "metadata": {},
   "outputs": [],
   "source": [
    "#Chnage all the column items to lower case and remove spaces\n",
    "for col in strings:\n",
    "    car[col] = car[col].str.lower().str.replace(' ', '_')"
   ]
  },
  {
   "cell_type": "code",
   "execution_count": 6,
   "id": "ed50444f",
   "metadata": {},
   "outputs": [
    {
     "data": {
      "text/html": [
       "<div>\n",
       "<style scoped>\n",
       "    .dataframe tbody tr th:only-of-type {\n",
       "        vertical-align: middle;\n",
       "    }\n",
       "\n",
       "    .dataframe tbody tr th {\n",
       "        vertical-align: top;\n",
       "    }\n",
       "\n",
       "    .dataframe thead th {\n",
       "        text-align: right;\n",
       "    }\n",
       "</style>\n",
       "<table border=\"1\" class=\"dataframe\">\n",
       "  <thead>\n",
       "    <tr style=\"text-align: right;\">\n",
       "      <th></th>\n",
       "      <th>make</th>\n",
       "      <th>model</th>\n",
       "      <th>year</th>\n",
       "      <th>engine_fuel_type</th>\n",
       "      <th>engine_hp</th>\n",
       "      <th>engine_cylinders</th>\n",
       "      <th>transmission_type</th>\n",
       "      <th>driven_wheels</th>\n",
       "      <th>number_of_doors</th>\n",
       "      <th>market_category</th>\n",
       "      <th>vehicle_size</th>\n",
       "      <th>vehicle_style</th>\n",
       "      <th>highway_mpg</th>\n",
       "      <th>city_mpg</th>\n",
       "      <th>popularity</th>\n",
       "      <th>msrp</th>\n",
       "    </tr>\n",
       "  </thead>\n",
       "  <tbody>\n",
       "    <tr>\n",
       "      <th>0</th>\n",
       "      <td>bmw</td>\n",
       "      <td>1_series_m</td>\n",
       "      <td>2011</td>\n",
       "      <td>premium_unleaded_(required)</td>\n",
       "      <td>335.0</td>\n",
       "      <td>6.0</td>\n",
       "      <td>manual</td>\n",
       "      <td>rear_wheel_drive</td>\n",
       "      <td>2.0</td>\n",
       "      <td>factory_tuner,luxury,high-performance</td>\n",
       "      <td>compact</td>\n",
       "      <td>coupe</td>\n",
       "      <td>26</td>\n",
       "      <td>19</td>\n",
       "      <td>3916</td>\n",
       "      <td>46135</td>\n",
       "    </tr>\n",
       "    <tr>\n",
       "      <th>1</th>\n",
       "      <td>bmw</td>\n",
       "      <td>1_series</td>\n",
       "      <td>2011</td>\n",
       "      <td>premium_unleaded_(required)</td>\n",
       "      <td>300.0</td>\n",
       "      <td>6.0</td>\n",
       "      <td>manual</td>\n",
       "      <td>rear_wheel_drive</td>\n",
       "      <td>2.0</td>\n",
       "      <td>luxury,performance</td>\n",
       "      <td>compact</td>\n",
       "      <td>convertible</td>\n",
       "      <td>28</td>\n",
       "      <td>19</td>\n",
       "      <td>3916</td>\n",
       "      <td>40650</td>\n",
       "    </tr>\n",
       "    <tr>\n",
       "      <th>2</th>\n",
       "      <td>bmw</td>\n",
       "      <td>1_series</td>\n",
       "      <td>2011</td>\n",
       "      <td>premium_unleaded_(required)</td>\n",
       "      <td>300.0</td>\n",
       "      <td>6.0</td>\n",
       "      <td>manual</td>\n",
       "      <td>rear_wheel_drive</td>\n",
       "      <td>2.0</td>\n",
       "      <td>luxury,high-performance</td>\n",
       "      <td>compact</td>\n",
       "      <td>coupe</td>\n",
       "      <td>28</td>\n",
       "      <td>20</td>\n",
       "      <td>3916</td>\n",
       "      <td>36350</td>\n",
       "    </tr>\n",
       "    <tr>\n",
       "      <th>3</th>\n",
       "      <td>bmw</td>\n",
       "      <td>1_series</td>\n",
       "      <td>2011</td>\n",
       "      <td>premium_unleaded_(required)</td>\n",
       "      <td>230.0</td>\n",
       "      <td>6.0</td>\n",
       "      <td>manual</td>\n",
       "      <td>rear_wheel_drive</td>\n",
       "      <td>2.0</td>\n",
       "      <td>luxury,performance</td>\n",
       "      <td>compact</td>\n",
       "      <td>coupe</td>\n",
       "      <td>28</td>\n",
       "      <td>18</td>\n",
       "      <td>3916</td>\n",
       "      <td>29450</td>\n",
       "    </tr>\n",
       "    <tr>\n",
       "      <th>4</th>\n",
       "      <td>bmw</td>\n",
       "      <td>1_series</td>\n",
       "      <td>2011</td>\n",
       "      <td>premium_unleaded_(required)</td>\n",
       "      <td>230.0</td>\n",
       "      <td>6.0</td>\n",
       "      <td>manual</td>\n",
       "      <td>rear_wheel_drive</td>\n",
       "      <td>2.0</td>\n",
       "      <td>luxury</td>\n",
       "      <td>compact</td>\n",
       "      <td>convertible</td>\n",
       "      <td>28</td>\n",
       "      <td>18</td>\n",
       "      <td>3916</td>\n",
       "      <td>34500</td>\n",
       "    </tr>\n",
       "    <tr>\n",
       "      <th>...</th>\n",
       "      <td>...</td>\n",
       "      <td>...</td>\n",
       "      <td>...</td>\n",
       "      <td>...</td>\n",
       "      <td>...</td>\n",
       "      <td>...</td>\n",
       "      <td>...</td>\n",
       "      <td>...</td>\n",
       "      <td>...</td>\n",
       "      <td>...</td>\n",
       "      <td>...</td>\n",
       "      <td>...</td>\n",
       "      <td>...</td>\n",
       "      <td>...</td>\n",
       "      <td>...</td>\n",
       "      <td>...</td>\n",
       "    </tr>\n",
       "    <tr>\n",
       "      <th>11909</th>\n",
       "      <td>acura</td>\n",
       "      <td>zdx</td>\n",
       "      <td>2012</td>\n",
       "      <td>premium_unleaded_(required)</td>\n",
       "      <td>300.0</td>\n",
       "      <td>6.0</td>\n",
       "      <td>automatic</td>\n",
       "      <td>all_wheel_drive</td>\n",
       "      <td>4.0</td>\n",
       "      <td>crossover,hatchback,luxury</td>\n",
       "      <td>midsize</td>\n",
       "      <td>4dr_hatchback</td>\n",
       "      <td>23</td>\n",
       "      <td>16</td>\n",
       "      <td>204</td>\n",
       "      <td>46120</td>\n",
       "    </tr>\n",
       "    <tr>\n",
       "      <th>11910</th>\n",
       "      <td>acura</td>\n",
       "      <td>zdx</td>\n",
       "      <td>2012</td>\n",
       "      <td>premium_unleaded_(required)</td>\n",
       "      <td>300.0</td>\n",
       "      <td>6.0</td>\n",
       "      <td>automatic</td>\n",
       "      <td>all_wheel_drive</td>\n",
       "      <td>4.0</td>\n",
       "      <td>crossover,hatchback,luxury</td>\n",
       "      <td>midsize</td>\n",
       "      <td>4dr_hatchback</td>\n",
       "      <td>23</td>\n",
       "      <td>16</td>\n",
       "      <td>204</td>\n",
       "      <td>56670</td>\n",
       "    </tr>\n",
       "    <tr>\n",
       "      <th>11911</th>\n",
       "      <td>acura</td>\n",
       "      <td>zdx</td>\n",
       "      <td>2012</td>\n",
       "      <td>premium_unleaded_(required)</td>\n",
       "      <td>300.0</td>\n",
       "      <td>6.0</td>\n",
       "      <td>automatic</td>\n",
       "      <td>all_wheel_drive</td>\n",
       "      <td>4.0</td>\n",
       "      <td>crossover,hatchback,luxury</td>\n",
       "      <td>midsize</td>\n",
       "      <td>4dr_hatchback</td>\n",
       "      <td>23</td>\n",
       "      <td>16</td>\n",
       "      <td>204</td>\n",
       "      <td>50620</td>\n",
       "    </tr>\n",
       "    <tr>\n",
       "      <th>11912</th>\n",
       "      <td>acura</td>\n",
       "      <td>zdx</td>\n",
       "      <td>2013</td>\n",
       "      <td>premium_unleaded_(recommended)</td>\n",
       "      <td>300.0</td>\n",
       "      <td>6.0</td>\n",
       "      <td>automatic</td>\n",
       "      <td>all_wheel_drive</td>\n",
       "      <td>4.0</td>\n",
       "      <td>crossover,hatchback,luxury</td>\n",
       "      <td>midsize</td>\n",
       "      <td>4dr_hatchback</td>\n",
       "      <td>23</td>\n",
       "      <td>16</td>\n",
       "      <td>204</td>\n",
       "      <td>50920</td>\n",
       "    </tr>\n",
       "    <tr>\n",
       "      <th>11913</th>\n",
       "      <td>lincoln</td>\n",
       "      <td>zephyr</td>\n",
       "      <td>2006</td>\n",
       "      <td>regular_unleaded</td>\n",
       "      <td>221.0</td>\n",
       "      <td>6.0</td>\n",
       "      <td>automatic</td>\n",
       "      <td>front_wheel_drive</td>\n",
       "      <td>4.0</td>\n",
       "      <td>luxury</td>\n",
       "      <td>midsize</td>\n",
       "      <td>sedan</td>\n",
       "      <td>26</td>\n",
       "      <td>17</td>\n",
       "      <td>61</td>\n",
       "      <td>28995</td>\n",
       "    </tr>\n",
       "  </tbody>\n",
       "</table>\n",
       "<p>11914 rows × 16 columns</p>\n",
       "</div>"
      ],
      "text/plain": [
       "          make       model  year                engine_fuel_type  engine_hp  \\\n",
       "0          bmw  1_series_m  2011     premium_unleaded_(required)      335.0   \n",
       "1          bmw    1_series  2011     premium_unleaded_(required)      300.0   \n",
       "2          bmw    1_series  2011     premium_unleaded_(required)      300.0   \n",
       "3          bmw    1_series  2011     premium_unleaded_(required)      230.0   \n",
       "4          bmw    1_series  2011     premium_unleaded_(required)      230.0   \n",
       "...        ...         ...   ...                             ...        ...   \n",
       "11909    acura         zdx  2012     premium_unleaded_(required)      300.0   \n",
       "11910    acura         zdx  2012     premium_unleaded_(required)      300.0   \n",
       "11911    acura         zdx  2012     premium_unleaded_(required)      300.0   \n",
       "11912    acura         zdx  2013  premium_unleaded_(recommended)      300.0   \n",
       "11913  lincoln      zephyr  2006                regular_unleaded      221.0   \n",
       "\n",
       "       engine_cylinders transmission_type      driven_wheels  number_of_doors  \\\n",
       "0                   6.0            manual   rear_wheel_drive              2.0   \n",
       "1                   6.0            manual   rear_wheel_drive              2.0   \n",
       "2                   6.0            manual   rear_wheel_drive              2.0   \n",
       "3                   6.0            manual   rear_wheel_drive              2.0   \n",
       "4                   6.0            manual   rear_wheel_drive              2.0   \n",
       "...                 ...               ...                ...              ...   \n",
       "11909               6.0         automatic    all_wheel_drive              4.0   \n",
       "11910               6.0         automatic    all_wheel_drive              4.0   \n",
       "11911               6.0         automatic    all_wheel_drive              4.0   \n",
       "11912               6.0         automatic    all_wheel_drive              4.0   \n",
       "11913               6.0         automatic  front_wheel_drive              4.0   \n",
       "\n",
       "                             market_category vehicle_size  vehicle_style  \\\n",
       "0      factory_tuner,luxury,high-performance      compact          coupe   \n",
       "1                         luxury,performance      compact    convertible   \n",
       "2                    luxury,high-performance      compact          coupe   \n",
       "3                         luxury,performance      compact          coupe   \n",
       "4                                     luxury      compact    convertible   \n",
       "...                                      ...          ...            ...   \n",
       "11909             crossover,hatchback,luxury      midsize  4dr_hatchback   \n",
       "11910             crossover,hatchback,luxury      midsize  4dr_hatchback   \n",
       "11911             crossover,hatchback,luxury      midsize  4dr_hatchback   \n",
       "11912             crossover,hatchback,luxury      midsize  4dr_hatchback   \n",
       "11913                                 luxury      midsize          sedan   \n",
       "\n",
       "       highway_mpg  city_mpg  popularity   msrp  \n",
       "0               26        19        3916  46135  \n",
       "1               28        19        3916  40650  \n",
       "2               28        20        3916  36350  \n",
       "3               28        18        3916  29450  \n",
       "4               28        18        3916  34500  \n",
       "...            ...       ...         ...    ...  \n",
       "11909           23        16         204  46120  \n",
       "11910           23        16         204  56670  \n",
       "11911           23        16         204  50620  \n",
       "11912           23        16         204  50920  \n",
       "11913           26        17          61  28995  \n",
       "\n",
       "[11914 rows x 16 columns]"
      ]
     },
     "execution_count": 6,
     "metadata": {},
     "output_type": "execute_result"
    }
   ],
   "source": [
    "car"
   ]
  },
  {
   "cell_type": "code",
   "execution_count": 7,
   "id": "e19f0d39",
   "metadata": {},
   "outputs": [],
   "source": [
    "#Price Distribution\n",
    "import matplotlib.pyplot as plt\n",
    "import seaborn as sns\n",
    "\n",
    "%matplotlib inline"
   ]
  },
  {
   "cell_type": "code",
   "execution_count": 8,
   "id": "2ddfc6e1",
   "metadata": {},
   "outputs": [
    {
     "data": {
      "text/plain": [
       "<AxesSubplot:xlabel='msrp', ylabel='Count'>"
      ]
     },
     "execution_count": 8,
     "metadata": {},
     "output_type": "execute_result"
    },
    {
     "data": {
      "image/png": "[encoded data removed]",
      "text/plain": [
       "<Figure size 432x288 with 1 Axes>"
      ]
     },
     "metadata": {
      "needs_background": "light"
     },
     "output_type": "display_data"
    }
   ],
   "source": [
    "sns.histplot(car.msrp[car['msrp'] < 100000], bins=50)"
   ]
  },
  {
   "cell_type": "code",
   "execution_count": 9,
   "id": "2e8798d2",
   "metadata": {},
   "outputs": [],
   "source": [
    "#To get rid of the tail you have in the prices\n",
    "#Let take the log of each prices so as to reducced the thousands \n",
    "price_logs = np.log1p(car[\"msrp\"])"
   ]
  },
  {
   "cell_type": "code",
   "execution_count": 10,
   "id": "50f4bf43",
   "metadata": {},
   "outputs": [
    {
     "data": {
      "text/plain": [
       "<AxesSubplot:xlabel='msrp', ylabel='Count'>"
      ]
     },
     "execution_count": 10,
     "metadata": {},
     "output_type": "execute_result"
    },
    {
     "data": {
      "image/png": "[encoded data removed]",
      "text/plain": [
       "<Figure size 432x288 with 1 Axes>"
      ]
     },
     "metadata": {
      "needs_background": "light"
     },
     "output_type": "display_data"
    }
   ],
   "source": [
    "sns.histplot(price_logs, bins=50)"
   ]
  },
  {
   "cell_type": "code",
   "execution_count": 11,
   "id": "9e90d060",
   "metadata": {},
   "outputs": [
    {
     "data": {
      "text/plain": [
       "make                    0\n",
       "model                   0\n",
       "year                    0\n",
       "engine_fuel_type        3\n",
       "engine_hp              69\n",
       "engine_cylinders       30\n",
       "transmission_type       0\n",
       "driven_wheels           0\n",
       "number_of_doors         6\n",
       "market_category      3742\n",
       "vehicle_size            0\n",
       "vehicle_style           0\n",
       "highway_mpg             0\n",
       "city_mpg                0\n",
       "popularity              0\n",
       "msrp                    0\n",
       "dtype: int64"
      ]
     },
     "execution_count": 11,
     "metadata": {},
     "output_type": "execute_result"
    }
   ],
   "source": [
    "#Getting the missing value\n",
    "car.isnull().sum()"
   ]
  },
  {
   "cell_type": "markdown",
   "id": "249cb5f5",
   "metadata": {},
   "source": [
    "### Setting up the validation frame work"
   ]
  },
  {
   "cell_type": "code",
   "execution_count": 12,
   "id": "79a01b28",
   "metadata": {},
   "outputs": [],
   "source": [
    "#Getting the size of each data frame\n",
    "n = len(car)\n",
    "\n",
    "n_val = int(n * 0.2)\n",
    "n_test = int(n * 0.2)\n",
    "n_train = n - n_val - n_test"
   ]
  },
  {
   "cell_type": "code",
   "execution_count": 13,
   "id": "41809c3a",
   "metadata": {},
   "outputs": [
    {
     "data": {
      "text/plain": [
       "(2382, 2382, 7150)"
      ]
     },
     "execution_count": 13,
     "metadata": {},
     "output_type": "execute_result"
    }
   ],
   "source": [
    "n_val, n_test, n_train"
   ]
  },
  {
   "cell_type": "code",
   "execution_count": 14,
   "id": "67738bd1",
   "metadata": {},
   "outputs": [],
   "source": [
    "#Each dataframe above may miss one or more value in the dataset, so it it advisable to shuffle \n",
    "\n",
    "# Create array of all the index\n",
    "idx = np.arange(n)\n",
    "\n",
    "# Create a random index\n",
    "np.random.seed(2)            #Every shuffle remain the same\n",
    "np.random.shuffle(idx)"
   ]
  },
  {
   "cell_type": "code",
   "execution_count": 15,
   "id": "af1eba6a",
   "metadata": {},
   "outputs": [],
   "source": [
    "#Re distribute all the data\n",
    "# df_train = car.iloc[idx[:n_train]]\n",
    "# df_val = car.iloc[idx[n_train:n_train+n_val]]\n",
    "# df_test = car.iloc[idx[n_train+n_val:]]\n",
    "\n",
    "# np.random.seed(2)\n",
    "\n",
    "# n = len(car)\n",
    "\n",
    "# n_val = int(0.2 * n)\n",
    "# n_test = int(0.2 * n)\n",
    "# n_train = n - (n_val + n_test)\n",
    "\n",
    "# idx = np.arange(n)\n",
    "# np.random.shuffle(idx)\n",
    "\n",
    "# df_shuffled = car.iloc[idx]\n",
    "\n",
    "# df_train = df_shuffled.iloc[:n_train].copy()\n",
    "# df_val = df_shuffled.iloc[n_train:n_train+n_val].copy()\n",
    "# df_test = df_shuffled.iloc[n_train+n_val:].copy()"
   ]
  },
  {
   "cell_type": "code",
   "execution_count": 16,
   "id": "fba4a902",
   "metadata": {},
   "outputs": [],
   "source": [
    "def split_data(df):\n",
    "    n = len(df)\n",
    "    # Create array of all the index\n",
    "    idx = np.arange(n)\n",
    "\n",
    "    # Create a random index\n",
    "    np.random.seed(2)            #Every shuffle remain the same\n",
    "    \n",
    "    np.random.shuffle(idx)\n",
    "    \n",
    "    #Re distribute all the data\n",
    "    df_train = df.iloc[idx[:n_train]]\n",
    "    df_val = df.iloc[idx[n_train:n_train+n_val]]\n",
    "    df_test = df.iloc[idx[n_train+n_val:]]\n",
    "    \n",
    "    return df_train, df_val, df_test"
   ]
  },
  {
   "cell_type": "code",
   "execution_count": 17,
   "id": "a23edca9",
   "metadata": {},
   "outputs": [],
   "source": [
    "df_train, df_val, df_test = split_data(car)"
   ]
  },
  {
   "cell_type": "code",
   "execution_count": 18,
   "id": "19c2e820",
   "metadata": {},
   "outputs": [
    {
     "data": {
      "text/plain": [
       "(7150, 2382, 2382)"
      ]
     },
     "execution_count": 18,
     "metadata": {},
     "output_type": "execute_result"
    }
   ],
   "source": [
    "len(df_train), len(df_val), len(df_test)"
   ]
  },
  {
   "cell_type": "code",
   "execution_count": 19,
   "id": "11514bf4",
   "metadata": {},
   "outputs": [
    {
     "data": {
      "text/html": [
       "<div>\n",
       "<style scoped>\n",
       "    .dataframe tbody tr th:only-of-type {\n",
       "        vertical-align: middle;\n",
       "    }\n",
       "\n",
       "    .dataframe tbody tr th {\n",
       "        vertical-align: top;\n",
       "    }\n",
       "\n",
       "    .dataframe thead th {\n",
       "        text-align: right;\n",
       "    }\n",
       "</style>\n",
       "<table border=\"1\" class=\"dataframe\">\n",
       "  <thead>\n",
       "    <tr style=\"text-align: right;\">\n",
       "      <th></th>\n",
       "      <th>make</th>\n",
       "      <th>model</th>\n",
       "      <th>year</th>\n",
       "      <th>engine_fuel_type</th>\n",
       "      <th>engine_hp</th>\n",
       "      <th>engine_cylinders</th>\n",
       "      <th>transmission_type</th>\n",
       "      <th>driven_wheels</th>\n",
       "      <th>number_of_doors</th>\n",
       "      <th>market_category</th>\n",
       "      <th>vehicle_size</th>\n",
       "      <th>vehicle_style</th>\n",
       "      <th>highway_mpg</th>\n",
       "      <th>city_mpg</th>\n",
       "      <th>popularity</th>\n",
       "      <th>msrp</th>\n",
       "    </tr>\n",
       "  </thead>\n",
       "  <tbody>\n",
       "    <tr>\n",
       "      <th>2735</th>\n",
       "      <td>chevrolet</td>\n",
       "      <td>cobalt</td>\n",
       "      <td>2008</td>\n",
       "      <td>regular_unleaded</td>\n",
       "      <td>148.0</td>\n",
       "      <td>4.0</td>\n",
       "      <td>manual</td>\n",
       "      <td>front_wheel_drive</td>\n",
       "      <td>2.0</td>\n",
       "      <td>NaN</td>\n",
       "      <td>compact</td>\n",
       "      <td>coupe</td>\n",
       "      <td>33</td>\n",
       "      <td>24</td>\n",
       "      <td>1385</td>\n",
       "      <td>14410</td>\n",
       "    </tr>\n",
       "    <tr>\n",
       "      <th>6720</th>\n",
       "      <td>toyota</td>\n",
       "      <td>matrix</td>\n",
       "      <td>2012</td>\n",
       "      <td>regular_unleaded</td>\n",
       "      <td>132.0</td>\n",
       "      <td>4.0</td>\n",
       "      <td>automatic</td>\n",
       "      <td>front_wheel_drive</td>\n",
       "      <td>4.0</td>\n",
       "      <td>hatchback</td>\n",
       "      <td>compact</td>\n",
       "      <td>4dr_hatchback</td>\n",
       "      <td>32</td>\n",
       "      <td>25</td>\n",
       "      <td>2031</td>\n",
       "      <td>19685</td>\n",
       "    </tr>\n",
       "    <tr>\n",
       "      <th>5878</th>\n",
       "      <td>subaru</td>\n",
       "      <td>impreza</td>\n",
       "      <td>2016</td>\n",
       "      <td>regular_unleaded</td>\n",
       "      <td>148.0</td>\n",
       "      <td>4.0</td>\n",
       "      <td>automatic</td>\n",
       "      <td>all_wheel_drive</td>\n",
       "      <td>4.0</td>\n",
       "      <td>hatchback</td>\n",
       "      <td>compact</td>\n",
       "      <td>4dr_hatchback</td>\n",
       "      <td>37</td>\n",
       "      <td>28</td>\n",
       "      <td>640</td>\n",
       "      <td>19795</td>\n",
       "    </tr>\n",
       "    <tr>\n",
       "      <th>11190</th>\n",
       "      <td>volkswagen</td>\n",
       "      <td>vanagon</td>\n",
       "      <td>1991</td>\n",
       "      <td>regular_unleaded</td>\n",
       "      <td>90.0</td>\n",
       "      <td>4.0</td>\n",
       "      <td>manual</td>\n",
       "      <td>rear_wheel_drive</td>\n",
       "      <td>3.0</td>\n",
       "      <td>NaN</td>\n",
       "      <td>large</td>\n",
       "      <td>passenger_minivan</td>\n",
       "      <td>18</td>\n",
       "      <td>16</td>\n",
       "      <td>873</td>\n",
       "      <td>2000</td>\n",
       "    </tr>\n",
       "    <tr>\n",
       "      <th>4554</th>\n",
       "      <td>ford</td>\n",
       "      <td>f-150</td>\n",
       "      <td>2017</td>\n",
       "      <td>flex-fuel_(unleaded/e85)</td>\n",
       "      <td>385.0</td>\n",
       "      <td>8.0</td>\n",
       "      <td>automatic</td>\n",
       "      <td>four_wheel_drive</td>\n",
       "      <td>4.0</td>\n",
       "      <td>flex_fuel</td>\n",
       "      <td>large</td>\n",
       "      <td>crew_cab_pickup</td>\n",
       "      <td>21</td>\n",
       "      <td>15</td>\n",
       "      <td>5657</td>\n",
       "      <td>56260</td>\n",
       "    </tr>\n",
       "    <tr>\n",
       "      <th>...</th>\n",
       "      <td>...</td>\n",
       "      <td>...</td>\n",
       "      <td>...</td>\n",
       "      <td>...</td>\n",
       "      <td>...</td>\n",
       "      <td>...</td>\n",
       "      <td>...</td>\n",
       "      <td>...</td>\n",
       "      <td>...</td>\n",
       "      <td>...</td>\n",
       "      <td>...</td>\n",
       "      <td>...</td>\n",
       "      <td>...</td>\n",
       "      <td>...</td>\n",
       "      <td>...</td>\n",
       "      <td>...</td>\n",
       "    </tr>\n",
       "    <tr>\n",
       "      <th>434</th>\n",
       "      <td>bmw</td>\n",
       "      <td>4_series</td>\n",
       "      <td>2015</td>\n",
       "      <td>premium_unleaded_(required)</td>\n",
       "      <td>300.0</td>\n",
       "      <td>6.0</td>\n",
       "      <td>automatic</td>\n",
       "      <td>rear_wheel_drive</td>\n",
       "      <td>2.0</td>\n",
       "      <td>luxury,performance</td>\n",
       "      <td>midsize</td>\n",
       "      <td>convertible</td>\n",
       "      <td>31</td>\n",
       "      <td>20</td>\n",
       "      <td>3916</td>\n",
       "      <td>54900</td>\n",
       "    </tr>\n",
       "    <tr>\n",
       "      <th>1902</th>\n",
       "      <td>volkswagen</td>\n",
       "      <td>beetle</td>\n",
       "      <td>2015</td>\n",
       "      <td>premium_unleaded_(recommended)</td>\n",
       "      <td>210.0</td>\n",
       "      <td>4.0</td>\n",
       "      <td>automated_manual</td>\n",
       "      <td>front_wheel_drive</td>\n",
       "      <td>2.0</td>\n",
       "      <td>hatchback,performance</td>\n",
       "      <td>compact</td>\n",
       "      <td>2dr_hatchback</td>\n",
       "      <td>30</td>\n",
       "      <td>24</td>\n",
       "      <td>873</td>\n",
       "      <td>29215</td>\n",
       "    </tr>\n",
       "    <tr>\n",
       "      <th>9334</th>\n",
       "      <td>gmc</td>\n",
       "      <td>sierra_1500</td>\n",
       "      <td>2015</td>\n",
       "      <td>flex-fuel_(unleaded/e85)</td>\n",
       "      <td>285.0</td>\n",
       "      <td>6.0</td>\n",
       "      <td>automatic</td>\n",
       "      <td>four_wheel_drive</td>\n",
       "      <td>4.0</td>\n",
       "      <td>flex_fuel</td>\n",
       "      <td>large</td>\n",
       "      <td>extended_cab_pickup</td>\n",
       "      <td>22</td>\n",
       "      <td>17</td>\n",
       "      <td>549</td>\n",
       "      <td>34675</td>\n",
       "    </tr>\n",
       "    <tr>\n",
       "      <th>5284</th>\n",
       "      <td>rolls-royce</td>\n",
       "      <td>ghost</td>\n",
       "      <td>2014</td>\n",
       "      <td>premium_unleaded_(required)</td>\n",
       "      <td>563.0</td>\n",
       "      <td>12.0</td>\n",
       "      <td>automatic</td>\n",
       "      <td>rear_wheel_drive</td>\n",
       "      <td>4.0</td>\n",
       "      <td>exotic,luxury,performance</td>\n",
       "      <td>large</td>\n",
       "      <td>sedan</td>\n",
       "      <td>21</td>\n",
       "      <td>13</td>\n",
       "      <td>86</td>\n",
       "      <td>303300</td>\n",
       "    </tr>\n",
       "    <tr>\n",
       "      <th>2420</th>\n",
       "      <td>volkswagen</td>\n",
       "      <td>cc</td>\n",
       "      <td>2017</td>\n",
       "      <td>premium_unleaded_(recommended)</td>\n",
       "      <td>200.0</td>\n",
       "      <td>4.0</td>\n",
       "      <td>automated_manual</td>\n",
       "      <td>front_wheel_drive</td>\n",
       "      <td>4.0</td>\n",
       "      <td>performance</td>\n",
       "      <td>midsize</td>\n",
       "      <td>sedan</td>\n",
       "      <td>31</td>\n",
       "      <td>22</td>\n",
       "      <td>873</td>\n",
       "      <td>37820</td>\n",
       "    </tr>\n",
       "  </tbody>\n",
       "</table>\n",
       "<p>7150 rows × 16 columns</p>\n",
       "</div>"
      ],
      "text/plain": [
       "              make        model  year                engine_fuel_type  \\\n",
       "2735     chevrolet       cobalt  2008                regular_unleaded   \n",
       "6720        toyota       matrix  2012                regular_unleaded   \n",
       "5878        subaru      impreza  2016                regular_unleaded   \n",
       "11190   volkswagen      vanagon  1991                regular_unleaded   \n",
       "4554          ford        f-150  2017        flex-fuel_(unleaded/e85)   \n",
       "...            ...          ...   ...                             ...   \n",
       "434            bmw     4_series  2015     premium_unleaded_(required)   \n",
       "1902    volkswagen       beetle  2015  premium_unleaded_(recommended)   \n",
       "9334           gmc  sierra_1500  2015        flex-fuel_(unleaded/e85)   \n",
       "5284   rolls-royce        ghost  2014     premium_unleaded_(required)   \n",
       "2420    volkswagen           cc  2017  premium_unleaded_(recommended)   \n",
       "\n",
       "       engine_hp  engine_cylinders transmission_type      driven_wheels  \\\n",
       "2735       148.0               4.0            manual  front_wheel_drive   \n",
       "6720       132.0               4.0         automatic  front_wheel_drive   \n",
       "5878       148.0               4.0         automatic    all_wheel_drive   \n",
       "11190       90.0               4.0            manual   rear_wheel_drive   \n",
       "4554       385.0               8.0         automatic   four_wheel_drive   \n",
       "...          ...               ...               ...                ...   \n",
       "434        300.0               6.0         automatic   rear_wheel_drive   \n",
       "1902       210.0               4.0  automated_manual  front_wheel_drive   \n",
       "9334       285.0               6.0         automatic   four_wheel_drive   \n",
       "5284       563.0              12.0         automatic   rear_wheel_drive   \n",
       "2420       200.0               4.0  automated_manual  front_wheel_drive   \n",
       "\n",
       "       number_of_doors            market_category vehicle_size  \\\n",
       "2735               2.0                        NaN      compact   \n",
       "6720               4.0                  hatchback      compact   \n",
       "5878               4.0                  hatchback      compact   \n",
       "11190              3.0                        NaN        large   \n",
       "4554               4.0                  flex_fuel        large   \n",
       "...                ...                        ...          ...   \n",
       "434                2.0         luxury,performance      midsize   \n",
       "1902               2.0      hatchback,performance      compact   \n",
       "9334               4.0                  flex_fuel        large   \n",
       "5284               4.0  exotic,luxury,performance        large   \n",
       "2420               4.0                performance      midsize   \n",
       "\n",
       "             vehicle_style  highway_mpg  city_mpg  popularity    msrp  \n",
       "2735                 coupe           33        24        1385   14410  \n",
       "6720         4dr_hatchback           32        25        2031   19685  \n",
       "5878         4dr_hatchback           37        28         640   19795  \n",
       "11190    passenger_minivan           18        16         873    2000  \n",
       "4554       crew_cab_pickup           21        15        5657   56260  \n",
       "...                    ...          ...       ...         ...     ...  \n",
       "434            convertible           31        20        3916   54900  \n",
       "1902         2dr_hatchback           30        24         873   29215  \n",
       "9334   extended_cab_pickup           22        17         549   34675  \n",
       "5284                 sedan           21        13          86  303300  \n",
       "2420                 sedan           31        22         873   37820  \n",
       "\n",
       "[7150 rows x 16 columns]"
      ]
     },
     "execution_count": 19,
     "metadata": {},
     "output_type": "execute_result"
    }
   ],
   "source": [
    "#Confirm if dataframe are shuffled\n",
    "df_train "
   ]
  },
  {
   "cell_type": "code",
   "execution_count": 20,
   "id": "42e26ae3",
   "metadata": {},
   "outputs": [],
   "source": [
    "#Now let reset the index of the dataframe\n",
    "# df_train = df_train.reset_index(drop=True)\n",
    "# df_val = df_val.reset_index(drop=True)\n",
    "# df_test = df_test.reset_index(drop=True)"
   ]
  },
  {
   "cell_type": "code",
   "execution_count": 21,
   "id": "1dd1565e",
   "metadata": {},
   "outputs": [],
   "source": [
    "#Get all the target variables in numpy array\n",
    "# y_train = np.log1p(df_train.msrp.values)\n",
    "# y_val = np.log1p(df_val.msrp.values)\n",
    "# y_test = np.log1p(df_test.msrp.values)"
   ]
  },
  {
   "cell_type": "code",
   "execution_count": 22,
   "id": "9482c19c",
   "metadata": {},
   "outputs": [],
   "source": [
    "y_train_orig = df_train.msrp.values\n",
    "y_val_orig = df_val.msrp.values\n",
    "y_test_orig = df_test.msrp.values\n",
    "\n",
    "y_train = np.log1p(df_train.msrp.values)\n",
    "y_val = np.log1p(df_val.msrp.values)\n",
    "y_test = np.log1p(df_test.msrp.values)\n",
    "\n",
    "del df_train['msrp']\n",
    "del df_val['msrp']\n",
    "del df_test['msrp']"
   ]
  },
  {
   "cell_type": "code",
   "execution_count": 23,
   "id": "07cc0ae3",
   "metadata": {},
   "outputs": [
    {
     "data": {
      "text/html": [
       "<div>\n",
       "<style scoped>\n",
       "    .dataframe tbody tr th:only-of-type {\n",
       "        vertical-align: middle;\n",
       "    }\n",
       "\n",
       "    .dataframe tbody tr th {\n",
       "        vertical-align: top;\n",
       "    }\n",
       "\n",
       "    .dataframe thead th {\n",
       "        text-align: right;\n",
       "    }\n",
       "</style>\n",
       "<table border=\"1\" class=\"dataframe\">\n",
       "  <thead>\n",
       "    <tr style=\"text-align: right;\">\n",
       "      <th></th>\n",
       "      <th>make</th>\n",
       "      <th>model</th>\n",
       "      <th>year</th>\n",
       "      <th>engine_fuel_type</th>\n",
       "      <th>engine_hp</th>\n",
       "      <th>engine_cylinders</th>\n",
       "      <th>transmission_type</th>\n",
       "      <th>driven_wheels</th>\n",
       "      <th>number_of_doors</th>\n",
       "      <th>market_category</th>\n",
       "      <th>vehicle_size</th>\n",
       "      <th>vehicle_style</th>\n",
       "      <th>highway_mpg</th>\n",
       "      <th>city_mpg</th>\n",
       "      <th>popularity</th>\n",
       "    </tr>\n",
       "  </thead>\n",
       "  <tbody>\n",
       "    <tr>\n",
       "      <th>2735</th>\n",
       "      <td>chevrolet</td>\n",
       "      <td>cobalt</td>\n",
       "      <td>2008</td>\n",
       "      <td>regular_unleaded</td>\n",
       "      <td>148.0</td>\n",
       "      <td>4.0</td>\n",
       "      <td>manual</td>\n",
       "      <td>front_wheel_drive</td>\n",
       "      <td>2.0</td>\n",
       "      <td>NaN</td>\n",
       "      <td>compact</td>\n",
       "      <td>coupe</td>\n",
       "      <td>33</td>\n",
       "      <td>24</td>\n",
       "      <td>1385</td>\n",
       "    </tr>\n",
       "    <tr>\n",
       "      <th>6720</th>\n",
       "      <td>toyota</td>\n",
       "      <td>matrix</td>\n",
       "      <td>2012</td>\n",
       "      <td>regular_unleaded</td>\n",
       "      <td>132.0</td>\n",
       "      <td>4.0</td>\n",
       "      <td>automatic</td>\n",
       "      <td>front_wheel_drive</td>\n",
       "      <td>4.0</td>\n",
       "      <td>hatchback</td>\n",
       "      <td>compact</td>\n",
       "      <td>4dr_hatchback</td>\n",
       "      <td>32</td>\n",
       "      <td>25</td>\n",
       "      <td>2031</td>\n",
       "    </tr>\n",
       "    <tr>\n",
       "      <th>5878</th>\n",
       "      <td>subaru</td>\n",
       "      <td>impreza</td>\n",
       "      <td>2016</td>\n",
       "      <td>regular_unleaded</td>\n",
       "      <td>148.0</td>\n",
       "      <td>4.0</td>\n",
       "      <td>automatic</td>\n",
       "      <td>all_wheel_drive</td>\n",
       "      <td>4.0</td>\n",
       "      <td>hatchback</td>\n",
       "      <td>compact</td>\n",
       "      <td>4dr_hatchback</td>\n",
       "      <td>37</td>\n",
       "      <td>28</td>\n",
       "      <td>640</td>\n",
       "    </tr>\n",
       "    <tr>\n",
       "      <th>11190</th>\n",
       "      <td>volkswagen</td>\n",
       "      <td>vanagon</td>\n",
       "      <td>1991</td>\n",
       "      <td>regular_unleaded</td>\n",
       "      <td>90.0</td>\n",
       "      <td>4.0</td>\n",
       "      <td>manual</td>\n",
       "      <td>rear_wheel_drive</td>\n",
       "      <td>3.0</td>\n",
       "      <td>NaN</td>\n",
       "      <td>large</td>\n",
       "      <td>passenger_minivan</td>\n",
       "      <td>18</td>\n",
       "      <td>16</td>\n",
       "      <td>873</td>\n",
       "    </tr>\n",
       "    <tr>\n",
       "      <th>4554</th>\n",
       "      <td>ford</td>\n",
       "      <td>f-150</td>\n",
       "      <td>2017</td>\n",
       "      <td>flex-fuel_(unleaded/e85)</td>\n",
       "      <td>385.0</td>\n",
       "      <td>8.0</td>\n",
       "      <td>automatic</td>\n",
       "      <td>four_wheel_drive</td>\n",
       "      <td>4.0</td>\n",
       "      <td>flex_fuel</td>\n",
       "      <td>large</td>\n",
       "      <td>crew_cab_pickup</td>\n",
       "      <td>21</td>\n",
       "      <td>15</td>\n",
       "      <td>5657</td>\n",
       "    </tr>\n",
       "    <tr>\n",
       "      <th>...</th>\n",
       "      <td>...</td>\n",
       "      <td>...</td>\n",
       "      <td>...</td>\n",
       "      <td>...</td>\n",
       "      <td>...</td>\n",
       "      <td>...</td>\n",
       "      <td>...</td>\n",
       "      <td>...</td>\n",
       "      <td>...</td>\n",
       "      <td>...</td>\n",
       "      <td>...</td>\n",
       "      <td>...</td>\n",
       "      <td>...</td>\n",
       "      <td>...</td>\n",
       "      <td>...</td>\n",
       "    </tr>\n",
       "    <tr>\n",
       "      <th>434</th>\n",
       "      <td>bmw</td>\n",
       "      <td>4_series</td>\n",
       "      <td>2015</td>\n",
       "      <td>premium_unleaded_(required)</td>\n",
       "      <td>300.0</td>\n",
       "      <td>6.0</td>\n",
       "      <td>automatic</td>\n",
       "      <td>rear_wheel_drive</td>\n",
       "      <td>2.0</td>\n",
       "      <td>luxury,performance</td>\n",
       "      <td>midsize</td>\n",
       "      <td>convertible</td>\n",
       "      <td>31</td>\n",
       "      <td>20</td>\n",
       "      <td>3916</td>\n",
       "    </tr>\n",
       "    <tr>\n",
       "      <th>1902</th>\n",
       "      <td>volkswagen</td>\n",
       "      <td>beetle</td>\n",
       "      <td>2015</td>\n",
       "      <td>premium_unleaded_(recommended)</td>\n",
       "      <td>210.0</td>\n",
       "      <td>4.0</td>\n",
       "      <td>automated_manual</td>\n",
       "      <td>front_wheel_drive</td>\n",
       "      <td>2.0</td>\n",
       "      <td>hatchback,performance</td>\n",
       "      <td>compact</td>\n",
       "      <td>2dr_hatchback</td>\n",
       "      <td>30</td>\n",
       "      <td>24</td>\n",
       "      <td>873</td>\n",
       "    </tr>\n",
       "    <tr>\n",
       "      <th>9334</th>\n",
       "      <td>gmc</td>\n",
       "      <td>sierra_1500</td>\n",
       "      <td>2015</td>\n",
       "      <td>flex-fuel_(unleaded/e85)</td>\n",
       "      <td>285.0</td>\n",
       "      <td>6.0</td>\n",
       "      <td>automatic</td>\n",
       "      <td>four_wheel_drive</td>\n",
       "      <td>4.0</td>\n",
       "      <td>flex_fuel</td>\n",
       "      <td>large</td>\n",
       "      <td>extended_cab_pickup</td>\n",
       "      <td>22</td>\n",
       "      <td>17</td>\n",
       "      <td>549</td>\n",
       "    </tr>\n",
       "    <tr>\n",
       "      <th>5284</th>\n",
       "      <td>rolls-royce</td>\n",
       "      <td>ghost</td>\n",
       "      <td>2014</td>\n",
       "      <td>premium_unleaded_(required)</td>\n",
       "      <td>563.0</td>\n",
       "      <td>12.0</td>\n",
       "      <td>automatic</td>\n",
       "      <td>rear_wheel_drive</td>\n",
       "      <td>4.0</td>\n",
       "      <td>exotic,luxury,performance</td>\n",
       "      <td>large</td>\n",
       "      <td>sedan</td>\n",
       "      <td>21</td>\n",
       "      <td>13</td>\n",
       "      <td>86</td>\n",
       "    </tr>\n",
       "    <tr>\n",
       "      <th>2420</th>\n",
       "      <td>volkswagen</td>\n",
       "      <td>cc</td>\n",
       "      <td>2017</td>\n",
       "      <td>premium_unleaded_(recommended)</td>\n",
       "      <td>200.0</td>\n",
       "      <td>4.0</td>\n",
       "      <td>automated_manual</td>\n",
       "      <td>front_wheel_drive</td>\n",
       "      <td>4.0</td>\n",
       "      <td>performance</td>\n",
       "      <td>midsize</td>\n",
       "      <td>sedan</td>\n",
       "      <td>31</td>\n",
       "      <td>22</td>\n",
       "      <td>873</td>\n",
       "    </tr>\n",
       "  </tbody>\n",
       "</table>\n",
       "<p>7150 rows × 15 columns</p>\n",
       "</div>"
      ],
      "text/plain": [
       "              make        model  year                engine_fuel_type  \\\n",
       "2735     chevrolet       cobalt  2008                regular_unleaded   \n",
       "6720        toyota       matrix  2012                regular_unleaded   \n",
       "5878        subaru      impreza  2016                regular_unleaded   \n",
       "11190   volkswagen      vanagon  1991                regular_unleaded   \n",
       "4554          ford        f-150  2017        flex-fuel_(unleaded/e85)   \n",
       "...            ...          ...   ...                             ...   \n",
       "434            bmw     4_series  2015     premium_unleaded_(required)   \n",
       "1902    volkswagen       beetle  2015  premium_unleaded_(recommended)   \n",
       "9334           gmc  sierra_1500  2015        flex-fuel_(unleaded/e85)   \n",
       "5284   rolls-royce        ghost  2014     premium_unleaded_(required)   \n",
       "2420    volkswagen           cc  2017  premium_unleaded_(recommended)   \n",
       "\n",
       "       engine_hp  engine_cylinders transmission_type      driven_wheels  \\\n",
       "2735       148.0               4.0            manual  front_wheel_drive   \n",
       "6720       132.0               4.0         automatic  front_wheel_drive   \n",
       "5878       148.0               4.0         automatic    all_wheel_drive   \n",
       "11190       90.0               4.0            manual   rear_wheel_drive   \n",
       "4554       385.0               8.0         automatic   four_wheel_drive   \n",
       "...          ...               ...               ...                ...   \n",
       "434        300.0               6.0         automatic   rear_wheel_drive   \n",
       "1902       210.0               4.0  automated_manual  front_wheel_drive   \n",
       "9334       285.0               6.0         automatic   four_wheel_drive   \n",
       "5284       563.0              12.0         automatic   rear_wheel_drive   \n",
       "2420       200.0               4.0  automated_manual  front_wheel_drive   \n",
       "\n",
       "       number_of_doors            market_category vehicle_size  \\\n",
       "2735               2.0                        NaN      compact   \n",
       "6720               4.0                  hatchback      compact   \n",
       "5878               4.0                  hatchback      compact   \n",
       "11190              3.0                        NaN        large   \n",
       "4554               4.0                  flex_fuel        large   \n",
       "...                ...                        ...          ...   \n",
       "434                2.0         luxury,performance      midsize   \n",
       "1902               2.0      hatchback,performance      compact   \n",
       "9334               4.0                  flex_fuel        large   \n",
       "5284               4.0  exotic,luxury,performance        large   \n",
       "2420               4.0                performance      midsize   \n",
       "\n",
       "             vehicle_style  highway_mpg  city_mpg  popularity  \n",
       "2735                 coupe           33        24        1385  \n",
       "6720         4dr_hatchback           32        25        2031  \n",
       "5878         4dr_hatchback           37        28         640  \n",
       "11190    passenger_minivan           18        16         873  \n",
       "4554       crew_cab_pickup           21        15        5657  \n",
       "...                    ...          ...       ...         ...  \n",
       "434            convertible           31        20        3916  \n",
       "1902         2dr_hatchback           30        24         873  \n",
       "9334   extended_cab_pickup           22        17         549  \n",
       "5284                 sedan           21        13          86  \n",
       "2420                 sedan           31        22         873  \n",
       "\n",
       "[7150 rows x 15 columns]"
      ]
     },
     "execution_count": 23,
     "metadata": {},
     "output_type": "execute_result"
    }
   ],
   "source": [
    "#Confirm if deleted from the datafram\n",
    "df_train"
   ]
  },
  {
   "cell_type": "markdown",
   "id": "145d0adf",
   "metadata": {},
   "source": [
    "### Linear Regression"
   ]
  },
  {
   "cell_type": "markdown",
   "id": "d6301338",
   "metadata": {},
   "source": [
    "Now considering a linear regression that caters for i feature\n",
    "g(x) = Wo + W_iX_i\n",
    "let implement this"
   ]
  },
  {
   "cell_type": "code",
   "execution_count": 24,
   "id": "2d71ef31",
   "metadata": {},
   "outputs": [],
   "source": [
    "#Giben the following\n",
    "w0 = 7.17\n",
    "xi = [453, 11, 86]\n",
    "wo = [0.01, 0.04, 0.002]"
   ]
  },
  {
   "cell_type": "code",
   "execution_count": 25,
   "id": "a8eea6fb",
   "metadata": {},
   "outputs": [],
   "source": [
    "def linear_regression(xi):\n",
    "    n = len(xi)\n",
    "    pred = 0 + w0\n",
    "    for j in range(n):\n",
    "        pred = pred + wo[j] * xi[j]\n",
    "    return pred"
   ]
  },
  {
   "cell_type": "code",
   "execution_count": 26,
   "id": "190a6cd3",
   "metadata": {},
   "outputs": [
    {
     "data": {
      "text/plain": [
       "12.312"
      ]
     },
     "execution_count": 26,
     "metadata": {},
     "output_type": "execute_result"
    }
   ],
   "source": [
    "linear_regression(xi)"
   ]
  },
  {
   "cell_type": "code",
   "execution_count": 27,
   "id": "64feff83",
   "metadata": {},
   "outputs": [
    {
     "data": {
      "text/plain": [
       "222347.2221101062"
      ]
     },
     "execution_count": 27,
     "metadata": {},
     "output_type": "execute_result"
    }
   ],
   "source": [
    "np.expm1(12.312)"
   ]
  },
  {
   "cell_type": "markdown",
   "id": "b0a93987",
   "metadata": {},
   "source": [
    "The train liner model for w is derived from the normal equation = $(X^T*X)^-1 * y$ call the Gram Matrix"
   ]
  },
  {
   "cell_type": "code",
   "execution_count": 28,
   "id": "91f18641",
   "metadata": {},
   "outputs": [],
   "source": [
    "def train_linear_regression(X, y):\n",
    "    ones = np.ones(X.shape[0])\n",
    "    X = np.column_stack([ones, X])\n",
    "\n",
    "    XTX = X.T.dot(X)\n",
    "    XTX_inv = np.linalg.inv(XTX)\n",
    "    w = XTX_inv.dot(X.T).dot(y)\n",
    "    \n",
    "    return w[0], w[1:]"
   ]
  },
  {
   "cell_type": "markdown",
   "id": "1bcd2ce7",
   "metadata": {},
   "source": [
    "### Base line model"
   ]
  },
  {
   "cell_type": "code",
   "execution_count": 29,
   "id": "9dd886c7",
   "metadata": {},
   "outputs": [],
   "source": [
    "base = ['engine_hp', 'engine_cylinders', 'highway_mpg', 'city_mpg', 'popularity']"
   ]
  },
  {
   "cell_type": "code",
   "execution_count": 30,
   "id": "ea8605cd",
   "metadata": {},
   "outputs": [],
   "source": [
    "def prepare_X(df):\n",
    "    df_num = df[base]\n",
    "    df_num = df_num.fillna(0)\n",
    "    X = df_num.values\n",
    "    return X"
   ]
  },
  {
   "cell_type": "code",
   "execution_count": 31,
   "id": "02dc16e0",
   "metadata": {},
   "outputs": [],
   "source": [
    "X_train = prepare_X(df_train)\n",
    "w_0, w = train_linear_regression(X_train, y_train)"
   ]
  },
  {
   "cell_type": "code",
   "execution_count": 32,
   "id": "16f9ab38",
   "metadata": {},
   "outputs": [],
   "source": [
    "y_pred = w_0 + X_train.dot(w)"
   ]
  },
  {
   "cell_type": "code",
   "execution_count": 33,
   "id": "8cbc427b",
   "metadata": {},
   "outputs": [
    {
     "data": {
      "image/png": "[encoded data removed]",
      "text/plain": [
       "<Figure size 432x288 with 1 Axes>"
      ]
     },
     "metadata": {
      "needs_background": "light"
     },
     "output_type": "display_data"
    }
   ],
   "source": [
    "plt.figure(figsize=(6, 4))\n",
    "\n",
    "sns.histplot(y_train, label='target', color='#222222', alpha=0.6, bins=40)\n",
    "sns.histplot(y_pred, label='prediction', color='#aaaaaa', alpha=0.8, bins=40)\n",
    "\n",
    "plt.legend()\n",
    "\n",
    "plt.ylabel('Frequency')\n",
    "plt.xlabel('Log(Price + 1)')\n",
    "plt.title('Predictions vs actual distribution')\n",
    "\n",
    "plt.show()"
   ]
  },
  {
   "cell_type": "markdown",
   "id": "37a1379c",
   "metadata": {},
   "source": [
    "It was observed above from the chart that the model did not really do well, so let look for a way nto optimise the model.\n",
    "For that let move to Root means sqaure error(RMSE)\n",
    "\n",
    "### RMSE"
   ]
  },
  {
   "cell_type": "code",
   "execution_count": 34,
   "id": "26a74e1f",
   "metadata": {},
   "outputs": [],
   "source": [
    "#Comput rmse\n",
    "def rmse(y, y_pred):\n",
    "    error = y_pred - y\n",
    "    mse = (error ** 2).mean()\n",
    "    return np.sqrt(mse)"
   ]
  },
  {
   "cell_type": "markdown",
   "id": "ddfabada",
   "metadata": {},
   "source": [
    "### Validating the model with our RMSE"
   ]
  },
  {
   "cell_type": "code",
   "execution_count": 35,
   "id": "91fa2d98",
   "metadata": {},
   "outputs": [],
   "source": [
    "# Let write a function to prepare the data\n",
    "def prepare_x(df):\n",
    "    df_num = df[base]\n",
    "    df_num = df_train[base].fillna(0)\n",
    "    x = df_num.values\n",
    "    return x"
   ]
  },
  {
   "cell_type": "code",
   "execution_count": 36,
   "id": "e8387a04",
   "metadata": {},
   "outputs": [],
   "source": [
    "X_train = prepare_x(df_train)\n",
    "w_0, w = train_linear_regression(X_train, y_train)"
   ]
  },
  {
   "cell_type": "code",
   "execution_count": 37,
   "id": "e751c01d",
   "metadata": {},
   "outputs": [],
   "source": [
    "y_pred = w_0 + X_train.dot(w)"
   ]
  },
  {
   "cell_type": "code",
   "execution_count": 38,
   "id": "51d35798",
   "metadata": {},
   "outputs": [
    {
     "data": {
      "text/plain": [
       "0.7554192603920132"
      ]
     },
     "execution_count": 38,
     "metadata": {},
     "output_type": "execute_result"
    }
   ],
   "source": [
    "rmse(y_train, y_pred)"
   ]
  },
  {
   "cell_type": "code",
   "execution_count": 39,
   "id": "93a33027",
   "metadata": {},
   "outputs": [],
   "source": [
    "X_val = prepare_X(df_val)\n",
    "y_pred = w_0 + X_val.dot(w)\n"
   ]
  },
  {
   "cell_type": "code",
   "execution_count": 40,
   "id": "4b06436e",
   "metadata": {},
   "outputs": [
    {
     "data": {
      "text/plain": [
       "0.7616530991301601"
      ]
     },
     "execution_count": 40,
     "metadata": {},
     "output_type": "execute_result"
    }
   ],
   "source": [
    "rmse(y_val, y_pred)"
   ]
  },
  {
   "cell_type": "markdown",
   "id": "cadb9395",
   "metadata": {},
   "source": [
    "### Feature Engineering to improve our Model"
   ]
  },
  {
   "cell_type": "code",
   "execution_count": 41,
   "id": "a4a8504b",
   "metadata": {},
   "outputs": [],
   "source": [
    "def prepare_X(df):\n",
    "    df = df.copy()\n",
    "    df['age'] = 2017 - df.year # add the feature age to see how it can imporve our mnodel\n",
    "    feature = base + ['age']\n",
    "    df_num = df[feature]\n",
    "    df_num = df_num.fillna(0)\n",
    "    X = df_num.values\n",
    "    return X"
   ]
  },
  {
   "cell_type": "code",
   "execution_count": 42,
   "id": "142ce9cf",
   "metadata": {},
   "outputs": [],
   "source": [
    "X_train = prepare_X(df_train)\n",
    "w_0, w = train_linear_regression(X_train, y_train)\n",
    "\n",
    "X_val = prepare_X(df_val)\n",
    "y_pred = w_0 + X_val.dot(w)\n",
    "\n",
    "X_test = prepare_X(df_test)\n",
    "y_pred = w_0 + X_val.dot(w)"
   ]
  },
  {
   "cell_type": "code",
   "execution_count": 43,
   "id": "214aa3e8",
   "metadata": {},
   "outputs": [
    {
     "data": {
      "text/plain": [
       "0.5172055461058335"
      ]
     },
     "execution_count": 43,
     "metadata": {},
     "output_type": "execute_result"
    }
   ],
   "source": [
    "\n",
    "rmse(y_val, y_pred)"
   ]
  },
  {
   "cell_type": "code",
   "execution_count": 44,
   "id": "f085c955",
   "metadata": {},
   "outputs": [
    {
     "data": {
      "image/png": "[encoded data removed]",
      "text/plain": [
       "<Figure size 432x288 with 1 Axes>"
      ]
     },
     "metadata": {
      "needs_background": "light"
     },
     "output_type": "display_data"
    }
   ],
   "source": [
    "plt.figure(figsize=(6, 4))\n",
    "\n",
    "sns.histplot(y_train, label='target', color='#222222', alpha=0.6, bins=40)\n",
    "sns.histplot(y_pred, label='prediction', color='#aaaaaa', alpha=0.8, bins=40)\n",
    "\n",
    "plt.legend()\n",
    "\n",
    "plt.ylabel('Frequency')\n",
    "plt.xlabel('Log(Price + 1)')\n",
    "plt.title('Predictions vs actual distribution')\n",
    "\n",
    "plt.show()"
   ]
  },
  {
   "cell_type": "markdown",
   "id": "f9c6a3dc",
   "metadata": {},
   "source": [
    "### Categorical Variables"
   ]
  },
  {
   "cell_type": "code",
   "execution_count": 45,
   "id": "950a064e",
   "metadata": {},
   "outputs": [
    {
     "name": "stderr",
     "output_type": "stream",
     "text": [
      "C:\\Users\\user\\AppData\\Local\\Temp\\ipykernel_162140\\4231177859.py:3: SettingWithCopyWarning: \n",
      "A value is trying to be set on a copy of a slice from a DataFrame.\n",
      "Try using .loc[row_indexer,col_indexer] = value instead\n",
      "\n",
      "See the caveats in the documentation: https://pandas.pydata.org/pandas-docs/stable/user_guide/indexing.html#returning-a-view-versus-a-copy\n",
      "  df_train[\"number_%s\" %v] = (df_train.number_of_doors == v).astype('int')\n",
      "C:\\Users\\user\\AppData\\Local\\Temp\\ipykernel_162140\\4231177859.py:3: SettingWithCopyWarning: \n",
      "A value is trying to be set on a copy of a slice from a DataFrame.\n",
      "Try using .loc[row_indexer,col_indexer] = value instead\n",
      "\n",
      "See the caveats in the documentation: https://pandas.pydata.org/pandas-docs/stable/user_guide/indexing.html#returning-a-view-versus-a-copy\n",
      "  df_train[\"number_%s\" %v] = (df_train.number_of_doors == v).astype('int')\n",
      "C:\\Users\\user\\AppData\\Local\\Temp\\ipykernel_162140\\4231177859.py:3: SettingWithCopyWarning: \n",
      "A value is trying to be set on a copy of a slice from a DataFrame.\n",
      "Try using .loc[row_indexer,col_indexer] = value instead\n",
      "\n",
      "See the caveats in the documentation: https://pandas.pydata.org/pandas-docs/stable/user_guide/indexing.html#returning-a-view-versus-a-copy\n",
      "  df_train[\"number_%s\" %v] = (df_train.number_of_doors == v).astype('int')\n"
     ]
    }
   ],
   "source": [
    "#Categorical varibale can be converted to int by first checking their uniqueness\n",
    "for v in [2, 3, 4]:\n",
    "    df_train[\"number_%s\" %v] = (df_train.number_of_doors == v).astype('int')"
   ]
  },
  {
   "cell_type": "code",
   "execution_count": 46,
   "id": "8b207614",
   "metadata": {},
   "outputs": [],
   "source": [
    "def prepare_X(df):\n",
    "    df = df.copy()\n",
    "    features = base.copy()\n",
    "    df['age'] = 2017 - df.year # add the feature age to see how it can imporve our mnodel\n",
    "    features.append('age')\n",
    "    for v in [2, 3, 4]:\n",
    "        df[\"number_%s\" %v] = (df.number_of_doors == v).astype('int')\n",
    "        features.append(\"number_%s\" %v)\n",
    "        \n",
    "    df_num = df[features]\n",
    "    df_num = df_num.fillna(0)\n",
    "    X = df_num.values\n",
    "    return X"
   ]
  },
  {
   "cell_type": "code",
   "execution_count": 47,
   "id": "e1d251e3",
   "metadata": {},
   "outputs": [
    {
     "data": {
      "text/plain": [
       "0.5157995641502352"
      ]
     },
     "execution_count": 47,
     "metadata": {},
     "output_type": "execute_result"
    }
   ],
   "source": [
    "X_train = prepare_X(df_train)\n",
    "w_0, w = train_linear_regression(X_train, y_train)\n",
    "\n",
    "X_train\n",
    "X_val = prepare_X(df_val)\n",
    "y_pred = w_0 + X_val.dot(w)\n",
    "\n",
    "rmse(y_val, y_pred)"
   ]
  },
  {
   "cell_type": "code",
   "execution_count": 48,
   "id": "a23dd32b",
   "metadata": {},
   "outputs": [],
   "source": [
    "#Let convert the make and see the effect\n",
    "makes = list(df_train.make.value_counts().head().index)"
   ]
  },
  {
   "cell_type": "code",
   "execution_count": 49,
   "id": "7b86ccf6",
   "metadata": {},
   "outputs": [],
   "source": [
    "def prepare_X(df):\n",
    "    df = df.copy()\n",
    "    features = base.copy()\n",
    "    df['age'] = 2017 - df.year # add the feature age to see how it can imporve our mnodel\n",
    "    features.append('age')\n",
    "    for v in [2, 3, 4]:\n",
    "        df[\"number_%s\" %v] = (df.number_of_doors == v).astype('int')\n",
    "        features.append(\"number_%s\" %v)\n",
    "    \n",
    "    for v in makes:\n",
    "        df[\"make_%s\" %v] = (df.make == v).astype('int')\n",
    "        features.append(\"make_%s\" %v)\n",
    "        \n",
    "    df_num = df[features]\n",
    "    df_num = df_num.fillna(0)\n",
    "    X = df_num.values\n",
    "    return X"
   ]
  },
  {
   "cell_type": "code",
   "execution_count": 50,
   "id": "0ef0ca19",
   "metadata": {},
   "outputs": [
    {
     "data": {
      "text/plain": [
       "0.5076038849557034"
      ]
     },
     "execution_count": 50,
     "metadata": {},
     "output_type": "execute_result"
    }
   ],
   "source": [
    "X_train = prepare_X(df_train)\n",
    "w_0, w = train_linear_regression(X_train, y_train)\n",
    "\n",
    "X_train\n",
    "X_val = prepare_X(df_val)\n",
    "y_pred = w_0 + X_val.dot(w)\n",
    "\n",
    "rmse(y_val, y_pred)"
   ]
  },
  {
   "cell_type": "markdown",
   "id": "61d95f61",
   "metadata": {},
   "source": [
    "### Regularization\n",
    "This involve the controlling of the fetaures and how large each weight might be especially reduced or control"
   ]
  },
  {
   "cell_type": "code",
   "execution_count": 51,
   "id": "e55bc2db",
   "metadata": {},
   "outputs": [],
   "source": [
    "categorical_variables = [\n",
    "    'make',\n",
    "    'engine_fuel_type',\n",
    "    'transmission_type', \n",
    "    'driven_wheels', \n",
    "    'market_category', \n",
    "    'vehicle_size',\n",
    "]"
   ]
  },
  {
   "cell_type": "code",
   "execution_count": 52,
   "id": "e81e77d2",
   "metadata": {},
   "outputs": [
    {
     "data": {
      "text/plain": [
       "{'make': ['chevrolet', 'ford', 'volkswagen', 'toyota', 'dodge'],\n",
       " 'engine_fuel_type': ['regular_unleaded',\n",
       "  'premium_unleaded_(required)',\n",
       "  'premium_unleaded_(recommended)',\n",
       "  'flex-fuel_(unleaded/e85)',\n",
       "  'diesel'],\n",
       " 'transmission_type': ['automatic',\n",
       "  'manual',\n",
       "  'automated_manual',\n",
       "  'direct_drive',\n",
       "  'unknown'],\n",
       " 'driven_wheels': ['front_wheel_drive',\n",
       "  'rear_wheel_drive',\n",
       "  'all_wheel_drive',\n",
       "  'four_wheel_drive'],\n",
       " 'market_category': ['crossover',\n",
       "  'flex_fuel',\n",
       "  'luxury',\n",
       "  'hatchback',\n",
       "  'luxury,performance'],\n",
       " 'vehicle_size': ['compact', 'midsize', 'large']}"
      ]
     },
     "execution_count": 52,
     "metadata": {},
     "output_type": "execute_result"
    }
   ],
   "source": [
    "categories = {}\n",
    "\n",
    "for c in categorical_variables:\n",
    "    categories[c] = list(df_train[c].value_counts().head().index)\n",
    "    \n",
    "categories"
   ]
  },
  {
   "cell_type": "code",
   "execution_count": 53,
   "id": "a08d0c32",
   "metadata": {},
   "outputs": [],
   "source": [
    "# def prepare_X(df):\n",
    "#     df = df.copy()\n",
    "#     features = base.copy()\n",
    "#     df['age'] = 2017 - df.year # add the feature age to see how it can imporve our mnodel\n",
    "#     features.append('age')\n",
    "#     for v in [2, 3, 4]:\n",
    "#         df[\"number_%s\" %v] = (df.number_of_doors == v).astype('int')\n",
    "#         features.append(\"number_%s\" %v)\n",
    "#     del df['number_of_doors']\n",
    "    \n",
    "#     for c, values in categories.items():\n",
    "#         for v in values:\n",
    "#             df[\"%s_%s\" %(c, v)] = (df[c] == v).astype('int')\n",
    "#             features.append(\"%s_%s\" %(c, v))\n",
    "#     for c in categorical_variables:\n",
    "#         del df[c]\n",
    "        \n",
    "#     df_num = df[features]\n",
    "#     df_num = df_num.fillna(0)\n",
    "#     X = df_num.values\n",
    "#     return X\n",
    "\n",
    "def prepare_X(df):\n",
    "    df = df.copy()\n",
    "    features = base.copy()\n",
    "\n",
    "    df['age'] = 2017 - df.year\n",
    "    features.append('age')\n",
    "    \n",
    "    for v in [2, 3, 4]:\n",
    "        feature = 'num_doors_%s' % v\n",
    "        df[feature] = (df['number_of_doors'] == v).astype(int)\n",
    "        features.append(feature)\n",
    "\n",
    "    for v in ['chevrolet', 'ford', 'volkswagen', 'toyota', 'dodge']:\n",
    "        feature = 'is_make_%s' % v\n",
    "        df[feature] = (df['make'] == v).astype(int)\n",
    "        features.append(feature)\n",
    "\n",
    "    for v in ['regular_unleaded', 'premium_unleaded_(required)', \n",
    "              'premium_unleaded_(recommended)', 'flex-fuel_(unleaded/e85)']:\n",
    "        feature = 'is_type_%s' % v\n",
    "        df[feature] = (df['engine_fuel_type'] == v).astype(int)\n",
    "        features.append(feature)\n",
    "\n",
    "    for v in ['automatic', 'manual', 'automated_manual']:\n",
    "        feature = 'is_transmission_%s' % v\n",
    "        df[feature] = (df['transmission_type'] == v).astype(int)\n",
    "        features.append(feature)\n",
    "\n",
    "    for v in ['front_wheel_drive', 'rear_wheel_drive', 'all_wheel_drive', 'four_wheel_drive']:\n",
    "        feature = 'is_driven_wheens_%s' % v\n",
    "        df[feature] = (df['driven_wheels'] == v).astype(int)\n",
    "        features.append(feature)\n",
    "\n",
    "    for v in ['crossover', 'flex_fuel', 'luxury', 'luxury,performance', 'hatchback']:\n",
    "        feature = 'is_mc_%s' % v\n",
    "        df[feature] = (df['market_category'] == v).astype(int)\n",
    "        features.append(feature)\n",
    "\n",
    "    for v in ['compact', 'midsize', 'large']:\n",
    "        feature = 'is_size_%s' % v\n",
    "        df[feature] = (df['vehicle_size'] == v).astype(int)\n",
    "        features.append(feature)\n",
    "\n",
    "    for v in ['sedan', '4dr_suv', 'coupe', 'convertible', '4dr_hatchback']:\n",
    "        feature = 'is_style_%s' % v\n",
    "        df[feature] = (df['vehicle_style'] == v).astype(int)\n",
    "        features.append(feature)\n",
    "\n",
    "    df_num = df[features]\n",
    "    df_num = df_num.fillna(0)\n",
    "    X = df_num.values\n",
    "    return X\n",
    "\n"
   ]
  },
  {
   "cell_type": "code",
   "execution_count": 54,
   "id": "1edbf8e2",
   "metadata": {},
   "outputs": [],
   "source": [
    "def train_linear_regression_reg(X, y, r=0.0):\n",
    "    ones = np.ones(X.shape[0])\n",
    "    X = np.column_stack([ones, X])\n",
    "\n",
    "    XTX = X.T.dot(X)\n",
    "    reg = r * np.eye(XTX.shape[0])\n",
    "    XTX = XTX + reg\n",
    "\n",
    "    XTX_inv = np.linalg.inv(XTX)\n",
    "    w = XTX_inv.dot(X.T).dot(y)\n",
    "    \n",
    "    return w[0], w[1:]"
   ]
  },
  {
   "cell_type": "code",
   "execution_count": 55,
   "id": "f8345a2d",
   "metadata": {},
   "outputs": [
    {
     "data": {
      "text/plain": [
       "0.460226762660452"
      ]
     },
     "execution_count": 55,
     "metadata": {},
     "output_type": "execute_result"
    }
   ],
   "source": [
    "X_train = prepare_X(df_train)\n",
    "w_0, w = train_linear_regression_reg(X_train, y_train, r=0.001)\n",
    "\n",
    "X_train\n",
    "X_val = prepare_X(df_val)\n",
    "y_pred = w_0 + X_val.dot(w)\n",
    "\n",
    "rmse(y_val, y_pred)"
   ]
  },
  {
   "cell_type": "markdown",
   "id": "1804734d",
   "metadata": {},
   "source": [
    "### Tuning the model\n",
    "This invole find the best regularize value that reduce the rmse to bearest minimum"
   ]
  },
  {
   "cell_type": "code",
   "execution_count": 56,
   "id": "68b0bc61",
   "metadata": {},
   "outputs": [
    {
     "name": "stdout",
     "output_type": "stream",
     "text": [
      "10 4.389924340542246 0.47572481006935274\n",
      "1 6.219919390069965 0.46182980426538967\n",
      "0.1 7.05410924640204 0.4603700695813603\n",
      "0.01 7.181698786196669 0.4602394963262388\n",
      "0.001 7.1948459400515485 0.460226762660452\n",
      "1e-05 -4.857861871205197 0.46022537843983563\n",
      "1e-09 -388501555.4784347 0.4607263286073693\n"
     ]
    }
   ],
   "source": [
    "reg = [10, 1, 0.1, 0.01, 0.001, 0.00001, 0.000000001]\n",
    "for r in reg:\n",
    "    X_train = prepare_X(df_train)\n",
    "    w_0, w = train_linear_regression_reg(X_train, y_train, r=r)\n",
    "    X_val = prepare_X(df_val)\n",
    "    y_pred = w_0 + X_val.dot(w)\n",
    "    score = rmse(y_val, y_pred)\n",
    "    print(r, w_0, score)"
   ]
  },
  {
   "cell_type": "markdown",
   "id": "d880b9a7",
   "metadata": {},
   "source": [
    "### Using the Model"
   ]
  },
  {
   "cell_type": "code",
   "execution_count": 57,
   "id": "3760fecf",
   "metadata": {},
   "outputs": [
    {
     "name": "stdout",
     "output_type": "stream",
     "text": [
      "val 0.460226762660452\n",
      "test 0.4571684842248403\n"
     ]
    }
   ],
   "source": [
    "X_train = prepare_X(df_train)\n",
    "w_0, w = train_linear_regression_reg(X_train, y_train, r=0.001)\n",
    "X_val = prepare_X(df_val)\n",
    "y_pred = w_0 + X_val.dot(w)\n",
    "score = rmse(y_val, y_pred)\n",
    "\n",
    "X_test = prepare_X(df_test)\n",
    "y_pred = w_0 + X_test.dot(w)\n",
    "print(\"val\", score)\n",
    "\n",
    "print(\"test\", rmse(y_test, y_pred))"
   ]
  },
  {
   "cell_type": "code",
   "execution_count": 58,
   "id": "258577f3",
   "metadata": {},
   "outputs": [
    {
     "data": {
      "text/plain": [
       "(9532, 38)"
      ]
     },
     "execution_count": 58,
     "metadata": {},
     "output_type": "execute_result"
    }
   ],
   "source": [
    "# To train the full model\n",
    "# comibine the train validation, reset index and retrain\n",
    "df_full = pd.concat([df_train, df_val])\n",
    "df_full = df_full.reset_index(drop=True)\n",
    "X_full_train = prepare_X(df_full)\n",
    "X_full_train.shape"
   ]
  },
  {
   "cell_type": "code",
   "execution_count": 59,
   "id": "3e236a7c",
   "metadata": {},
   "outputs": [
    {
     "data": {
      "text/plain": [
       "array([ 9.57574708,  9.887663  ,  9.89323518, ..., 11.21756062,\n",
       "        9.77542688, 10.1924563 ])"
      ]
     },
     "execution_count": 59,
     "metadata": {},
     "output_type": "execute_result"
    }
   ],
   "source": [
    "y_full = np.concatenate([y_train, y_val])\n",
    "y_full"
   ]
  },
  {
   "cell_type": "code",
   "execution_count": 60,
   "id": "186227ba",
   "metadata": {},
   "outputs": [
    {
     "data": {
      "text/plain": [
       "-0.3029229435724342"
      ]
     },
     "execution_count": 60,
     "metadata": {},
     "output_type": "execute_result"
    }
   ],
   "source": [
    "#Now let train the model amd evalute the rmse\n",
    "w0, w = train_linear_regression_reg(X_full_train, y_full, r=0.00001)\n",
    "w0"
   ]
  },
  {
   "cell_type": "code",
   "execution_count": 61,
   "id": "40c72fbf",
   "metadata": {},
   "outputs": [
    {
     "data": {
      "text/plain": [
       "0.45615195111686124"
      ]
     },
     "execution_count": 61,
     "metadata": {},
     "output_type": "execute_result"
    }
   ],
   "source": [
    "X_test = prepare_X(df_test)\n",
    "y_pred = w0 + X_test.dot(w)\n",
    "\n",
    "rmse(y_test, y_pred)"
   ]
  },
  {
   "cell_type": "code",
   "execution_count": 62,
   "id": "eb545eb8",
   "metadata": {},
   "outputs": [
    {
     "data": {
      "text/plain": [
       "{'make': 'toyota',\n",
       " 'model': 'sienna',\n",
       " 'year': 2015,\n",
       " 'engine_fuel_type': 'regular_unleaded',\n",
       " 'engine_hp': 266.0,\n",
       " 'engine_cylinders': 6.0,\n",
       " 'transmission_type': 'automatic',\n",
       " 'driven_wheels': 'front_wheel_drive',\n",
       " 'number_of_doors': 4.0,\n",
       " 'market_category': nan,\n",
       " 'vehicle_size': 'large',\n",
       " 'vehicle_style': 'passenger_minivan',\n",
       " 'highway_mpg': 25,\n",
       " 'city_mpg': 18,\n",
       " 'popularity': 2031}"
      ]
     },
     "execution_count": 62,
     "metadata": {},
     "output_type": "execute_result"
    }
   ],
   "source": [
    "i = 20\n",
    "ad = df_test.iloc[i].to_dict()\n",
    "ad"
   ]
  },
  {
   "cell_type": "code",
   "execution_count": 63,
   "id": "ee49b0e6",
   "metadata": {},
   "outputs": [
    {
     "data": {
      "text/plain": [
       "33836.98228378872"
      ]
     },
     "execution_count": 63,
     "metadata": {},
     "output_type": "execute_result"
    }
   ],
   "source": [
    "X_test = prepare_X(pd.DataFrame([ad]))[0]\n",
    "y_pred = w0 + X_test.dot(w)\n",
    "suggestion = np.expm1(y_pred)\n",
    "suggestion"
   ]
  },
  {
   "cell_type": "code",
   "execution_count": null,
   "id": "92cfe7da",
   "metadata": {},
   "outputs": [],
   "source": []
  }
 ],
 "metadata": {
  "kernelspec": {
   "display_name": "Python 3 (ipykernel)",
   "language": "python",
   "name": "python3"
  },
  "language_info": {
   "codemirror_mode": {
    "name": "ipython",
    "version": 3
   },
   "file_extension": ".py",
   "mimetype": "text/x-python",
   "name": "python",
   "nbconvert_exporter": "python",
   "pygments_lexer": "ipython3",
   "version": "3.9.12"
  }
 },
 "nbformat": 4,
 "nbformat_minor": 5
}
