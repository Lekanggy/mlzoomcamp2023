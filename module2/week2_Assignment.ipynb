{
 "cells": [
  {
   "cell_type": "code",
   "execution_count": 1,
   "id": "1c185668",
   "metadata": {},
   "outputs": [],
   "source": [
    "import pandas as pd\n",
    "import numpy as np\n",
    "import matplotlib.pyplot as plt\n",
    "import seaborn as sns\n",
    "# %run Linear_Regression.ipynb\n",
    "\n",
    "%matplotlib inline"
   ]
  },
  {
   "cell_type": "code",
   "execution_count": 2,
   "id": "354fcd99",
   "metadata": {},
   "outputs": [],
   "source": [
    "def split_data(df, seed_num=2):\n",
    "    n = len(df)\n",
    "    n_val = int(n * 0.2)\n",
    "    n_test = int(n * 0.2)\n",
    "    n_train = n - n_val - n_test\n",
    "    # Create array of all the index\n",
    "    idx = np.arange(n)\n",
    "\n",
    "    # Create a random index\n",
    "    np.random.seed(seed_num)            #Every shuffle remain the same\n",
    "    \n",
    "    np.random.shuffle(idx)\n",
    "    \n",
    "    #Re distribute all the data\n",
    "    df_train = df.iloc[idx[:n_train]].reset_index(drop=True)\n",
    "    df_val = df.iloc[idx[n_train:n_train+n_val]].reset_index(drop=True)\n",
    "    df_test = df.iloc[idx[n_train+n_val:]].reset_index(drop=True)\n",
    "    \n",
    "    return df_train, df_val, df_test"
   ]
  },
  {
   "cell_type": "code",
   "execution_count": 3,
   "id": "65ddcef2",
   "metadata": {},
   "outputs": [],
   "source": [
    "def train_linear_regression(X, y):\n",
    "    ones = np.ones(X.shape[0])\n",
    "    X = np.column_stack([ones, X])\n",
    "\n",
    "    XTX = X.T.dot(X)\n",
    "    XTX_inv = np.linalg.inv(XTX)\n",
    "    w = XTX_inv.dot(X.T).dot(y)\n",
    "    \n",
    "    return w[0], w[1:]"
   ]
  },
  {
   "cell_type": "code",
   "execution_count": 4,
   "id": "187b48bf",
   "metadata": {},
   "outputs": [],
   "source": [
    "def train_linear_regression_reg(X, y, r=0.0):\n",
    "    ones = np.ones(X.shape[0])\n",
    "    X = np.column_stack([ones, X])\n",
    "\n",
    "    XTX = X.T.dot(X)\n",
    "    reg = r * np.eye(XTX.shape[0])\n",
    "    XTX = XTX + reg\n",
    "\n",
    "    XTX_inv = np.linalg.inv(XTX)\n",
    "    w = XTX_inv.dot(X.T).dot(y)\n",
    "    \n",
    "    return w[0], w[1:]"
   ]
  },
  {
   "cell_type": "code",
   "execution_count": 5,
   "id": "61900fdb",
   "metadata": {},
   "outputs": [],
   "source": [
    "# def rmse(y, y_pred):\n",
    "#     result = np.empty_like(y)\n",
    "#     chunk_size = len(y_pred)\n",
    "#     for i in range(0, len(y), chunk_size):\n",
    "#         chunk = y[i:i+chunk_size]\n",
    "#         result[i:i+chunk_size] = chunk - y_pred\n",
    "#     mse = (result ** 2).mean()\n",
    "#     return np.sqrt(mse)\n",
    "\n",
    "def rmse(y, y_pred):\n",
    "    error = y_pred - y\n",
    "    mse = (error ** 2).mean()\n",
    "    return np.sqrt(mse)"
   ]
  },
  {
   "cell_type": "code",
   "execution_count": 6,
   "id": "f14f5a66",
   "metadata": {},
   "outputs": [],
   "source": [
    "def prepare_X(df, fillna=0):\n",
    "    df = df.copy()\n",
    "    df_num = df.fillna(fillna)\n",
    "    X = df_num.values\n",
    "    return X"
   ]
  },
  {
   "cell_type": "code",
   "execution_count": 7,
   "id": "8d161b90",
   "metadata": {},
   "outputs": [],
   "source": [
    "df = pd.read_csv('../module1/raw_housing_data.csv')"
   ]
  },
  {
   "cell_type": "code",
   "execution_count": 8,
   "id": "2a61f2fa",
   "metadata": {},
   "outputs": [
    {
     "data": {
      "text/html": [
       "<div>\n",
       "<style scoped>\n",
       "    .dataframe tbody tr th:only-of-type {\n",
       "        vertical-align: middle;\n",
       "    }\n",
       "\n",
       "    .dataframe tbody tr th {\n",
       "        vertical-align: top;\n",
       "    }\n",
       "\n",
       "    .dataframe thead th {\n",
       "        text-align: right;\n",
       "    }\n",
       "</style>\n",
       "<table border=\"1\" class=\"dataframe\">\n",
       "  <thead>\n",
       "    <tr style=\"text-align: right;\">\n",
       "      <th></th>\n",
       "      <th>longitude</th>\n",
       "      <th>latitude</th>\n",
       "      <th>housing_median_age</th>\n",
       "      <th>total_rooms</th>\n",
       "      <th>total_bedrooms</th>\n",
       "      <th>population</th>\n",
       "      <th>households</th>\n",
       "      <th>median_income</th>\n",
       "      <th>median_house_value</th>\n",
       "      <th>ocean_proximity</th>\n",
       "    </tr>\n",
       "  </thead>\n",
       "  <tbody>\n",
       "    <tr>\n",
       "      <th>0</th>\n",
       "      <td>-122.23</td>\n",
       "      <td>37.88</td>\n",
       "      <td>41.0</td>\n",
       "      <td>880.0</td>\n",
       "      <td>129.0</td>\n",
       "      <td>322.0</td>\n",
       "      <td>126.0</td>\n",
       "      <td>8.3252</td>\n",
       "      <td>452600.0</td>\n",
       "      <td>NEAR BAY</td>\n",
       "    </tr>\n",
       "    <tr>\n",
       "      <th>1</th>\n",
       "      <td>-122.22</td>\n",
       "      <td>37.86</td>\n",
       "      <td>21.0</td>\n",
       "      <td>7099.0</td>\n",
       "      <td>1106.0</td>\n",
       "      <td>2401.0</td>\n",
       "      <td>1138.0</td>\n",
       "      <td>8.3014</td>\n",
       "      <td>358500.0</td>\n",
       "      <td>NEAR BAY</td>\n",
       "    </tr>\n",
       "    <tr>\n",
       "      <th>2</th>\n",
       "      <td>-122.24</td>\n",
       "      <td>37.85</td>\n",
       "      <td>52.0</td>\n",
       "      <td>1467.0</td>\n",
       "      <td>190.0</td>\n",
       "      <td>496.0</td>\n",
       "      <td>177.0</td>\n",
       "      <td>7.2574</td>\n",
       "      <td>352100.0</td>\n",
       "      <td>NEAR BAY</td>\n",
       "    </tr>\n",
       "    <tr>\n",
       "      <th>3</th>\n",
       "      <td>-122.25</td>\n",
       "      <td>37.85</td>\n",
       "      <td>52.0</td>\n",
       "      <td>1274.0</td>\n",
       "      <td>235.0</td>\n",
       "      <td>558.0</td>\n",
       "      <td>219.0</td>\n",
       "      <td>5.6431</td>\n",
       "      <td>341300.0</td>\n",
       "      <td>NEAR BAY</td>\n",
       "    </tr>\n",
       "    <tr>\n",
       "      <th>4</th>\n",
       "      <td>-122.25</td>\n",
       "      <td>37.85</td>\n",
       "      <td>52.0</td>\n",
       "      <td>1627.0</td>\n",
       "      <td>280.0</td>\n",
       "      <td>565.0</td>\n",
       "      <td>259.0</td>\n",
       "      <td>3.8462</td>\n",
       "      <td>342200.0</td>\n",
       "      <td>NEAR BAY</td>\n",
       "    </tr>\n",
       "    <tr>\n",
       "      <th>...</th>\n",
       "      <td>...</td>\n",
       "      <td>...</td>\n",
       "      <td>...</td>\n",
       "      <td>...</td>\n",
       "      <td>...</td>\n",
       "      <td>...</td>\n",
       "      <td>...</td>\n",
       "      <td>...</td>\n",
       "      <td>...</td>\n",
       "      <td>...</td>\n",
       "    </tr>\n",
       "    <tr>\n",
       "      <th>20635</th>\n",
       "      <td>-121.09</td>\n",
       "      <td>39.48</td>\n",
       "      <td>25.0</td>\n",
       "      <td>1665.0</td>\n",
       "      <td>374.0</td>\n",
       "      <td>845.0</td>\n",
       "      <td>330.0</td>\n",
       "      <td>1.5603</td>\n",
       "      <td>78100.0</td>\n",
       "      <td>INLAND</td>\n",
       "    </tr>\n",
       "    <tr>\n",
       "      <th>20636</th>\n",
       "      <td>-121.21</td>\n",
       "      <td>39.49</td>\n",
       "      <td>18.0</td>\n",
       "      <td>697.0</td>\n",
       "      <td>150.0</td>\n",
       "      <td>356.0</td>\n",
       "      <td>114.0</td>\n",
       "      <td>2.5568</td>\n",
       "      <td>77100.0</td>\n",
       "      <td>INLAND</td>\n",
       "    </tr>\n",
       "    <tr>\n",
       "      <th>20637</th>\n",
       "      <td>-121.22</td>\n",
       "      <td>39.43</td>\n",
       "      <td>17.0</td>\n",
       "      <td>2254.0</td>\n",
       "      <td>485.0</td>\n",
       "      <td>1007.0</td>\n",
       "      <td>433.0</td>\n",
       "      <td>1.7000</td>\n",
       "      <td>92300.0</td>\n",
       "      <td>INLAND</td>\n",
       "    </tr>\n",
       "    <tr>\n",
       "      <th>20638</th>\n",
       "      <td>-121.32</td>\n",
       "      <td>39.43</td>\n",
       "      <td>18.0</td>\n",
       "      <td>1860.0</td>\n",
       "      <td>409.0</td>\n",
       "      <td>741.0</td>\n",
       "      <td>349.0</td>\n",
       "      <td>1.8672</td>\n",
       "      <td>84700.0</td>\n",
       "      <td>INLAND</td>\n",
       "    </tr>\n",
       "    <tr>\n",
       "      <th>20639</th>\n",
       "      <td>-121.24</td>\n",
       "      <td>39.37</td>\n",
       "      <td>16.0</td>\n",
       "      <td>2785.0</td>\n",
       "      <td>616.0</td>\n",
       "      <td>1387.0</td>\n",
       "      <td>530.0</td>\n",
       "      <td>2.3886</td>\n",
       "      <td>89400.0</td>\n",
       "      <td>INLAND</td>\n",
       "    </tr>\n",
       "  </tbody>\n",
       "</table>\n",
       "<p>20640 rows × 10 columns</p>\n",
       "</div>"
      ],
      "text/plain": [
       "       longitude  latitude  housing_median_age  total_rooms  total_bedrooms  \\\n",
       "0        -122.23     37.88                41.0        880.0           129.0   \n",
       "1        -122.22     37.86                21.0       7099.0          1106.0   \n",
       "2        -122.24     37.85                52.0       1467.0           190.0   \n",
       "3        -122.25     37.85                52.0       1274.0           235.0   \n",
       "4        -122.25     37.85                52.0       1627.0           280.0   \n",
       "...          ...       ...                 ...          ...             ...   \n",
       "20635    -121.09     39.48                25.0       1665.0           374.0   \n",
       "20636    -121.21     39.49                18.0        697.0           150.0   \n",
       "20637    -121.22     39.43                17.0       2254.0           485.0   \n",
       "20638    -121.32     39.43                18.0       1860.0           409.0   \n",
       "20639    -121.24     39.37                16.0       2785.0           616.0   \n",
       "\n",
       "       population  households  median_income  median_house_value  \\\n",
       "0           322.0       126.0         8.3252            452600.0   \n",
       "1          2401.0      1138.0         8.3014            358500.0   \n",
       "2           496.0       177.0         7.2574            352100.0   \n",
       "3           558.0       219.0         5.6431            341300.0   \n",
       "4           565.0       259.0         3.8462            342200.0   \n",
       "...           ...         ...            ...                 ...   \n",
       "20635       845.0       330.0         1.5603             78100.0   \n",
       "20636       356.0       114.0         2.5568             77100.0   \n",
       "20637      1007.0       433.0         1.7000             92300.0   \n",
       "20638       741.0       349.0         1.8672             84700.0   \n",
       "20639      1387.0       530.0         2.3886             89400.0   \n",
       "\n",
       "      ocean_proximity  \n",
       "0            NEAR BAY  \n",
       "1            NEAR BAY  \n",
       "2            NEAR BAY  \n",
       "3            NEAR BAY  \n",
       "4            NEAR BAY  \n",
       "...               ...  \n",
       "20635          INLAND  \n",
       "20636          INLAND  \n",
       "20637          INLAND  \n",
       "20638          INLAND  \n",
       "20639          INLAND  \n",
       "\n",
       "[20640 rows x 10 columns]"
      ]
     },
     "execution_count": 8,
     "metadata": {},
     "output_type": "execute_result"
    }
   ],
   "source": [
    "df"
   ]
  },
  {
   "cell_type": "code",
   "execution_count": 9,
   "id": "227de1ed",
   "metadata": {},
   "outputs": [
    {
     "data": {
      "text/html": [
       "<div>\n",
       "<style scoped>\n",
       "    .dataframe tbody tr th:only-of-type {\n",
       "        vertical-align: middle;\n",
       "    }\n",
       "\n",
       "    .dataframe tbody tr th {\n",
       "        vertical-align: top;\n",
       "    }\n",
       "\n",
       "    .dataframe thead th {\n",
       "        text-align: right;\n",
       "    }\n",
       "</style>\n",
       "<table border=\"1\" class=\"dataframe\">\n",
       "  <thead>\n",
       "    <tr style=\"text-align: right;\">\n",
       "      <th></th>\n",
       "      <th>latitude</th>\n",
       "      <th>longitude</th>\n",
       "      <th>total_rooms</th>\n",
       "      <th>total_bedrooms</th>\n",
       "      <th>population</th>\n",
       "      <th>households</th>\n",
       "      <th>median_income</th>\n",
       "      <th>median_house_value</th>\n",
       "    </tr>\n",
       "  </thead>\n",
       "  <tbody>\n",
       "    <tr>\n",
       "      <th>0</th>\n",
       "      <td>37.88</td>\n",
       "      <td>-122.23</td>\n",
       "      <td>880.0</td>\n",
       "      <td>129.0</td>\n",
       "      <td>322.0</td>\n",
       "      <td>126.0</td>\n",
       "      <td>8.3252</td>\n",
       "      <td>452600.0</td>\n",
       "    </tr>\n",
       "    <tr>\n",
       "      <th>1</th>\n",
       "      <td>37.86</td>\n",
       "      <td>-122.22</td>\n",
       "      <td>7099.0</td>\n",
       "      <td>1106.0</td>\n",
       "      <td>2401.0</td>\n",
       "      <td>1138.0</td>\n",
       "      <td>8.3014</td>\n",
       "      <td>358500.0</td>\n",
       "    </tr>\n",
       "    <tr>\n",
       "      <th>2</th>\n",
       "      <td>37.85</td>\n",
       "      <td>-122.24</td>\n",
       "      <td>1467.0</td>\n",
       "      <td>190.0</td>\n",
       "      <td>496.0</td>\n",
       "      <td>177.0</td>\n",
       "      <td>7.2574</td>\n",
       "      <td>352100.0</td>\n",
       "    </tr>\n",
       "    <tr>\n",
       "      <th>3</th>\n",
       "      <td>37.85</td>\n",
       "      <td>-122.25</td>\n",
       "      <td>1274.0</td>\n",
       "      <td>235.0</td>\n",
       "      <td>558.0</td>\n",
       "      <td>219.0</td>\n",
       "      <td>5.6431</td>\n",
       "      <td>341300.0</td>\n",
       "    </tr>\n",
       "    <tr>\n",
       "      <th>4</th>\n",
       "      <td>37.85</td>\n",
       "      <td>-122.25</td>\n",
       "      <td>1627.0</td>\n",
       "      <td>280.0</td>\n",
       "      <td>565.0</td>\n",
       "      <td>259.0</td>\n",
       "      <td>3.8462</td>\n",
       "      <td>342200.0</td>\n",
       "    </tr>\n",
       "    <tr>\n",
       "      <th>...</th>\n",
       "      <td>...</td>\n",
       "      <td>...</td>\n",
       "      <td>...</td>\n",
       "      <td>...</td>\n",
       "      <td>...</td>\n",
       "      <td>...</td>\n",
       "      <td>...</td>\n",
       "      <td>...</td>\n",
       "    </tr>\n",
       "    <tr>\n",
       "      <th>19067</th>\n",
       "      <td>38.28</td>\n",
       "      <td>-122.45</td>\n",
       "      <td>3306.0</td>\n",
       "      <td>503.0</td>\n",
       "      <td>1374.0</td>\n",
       "      <td>460.0</td>\n",
       "      <td>5.7984</td>\n",
       "      <td>297600.0</td>\n",
       "    </tr>\n",
       "    <tr>\n",
       "      <th>19068</th>\n",
       "      <td>38.29</td>\n",
       "      <td>-122.47</td>\n",
       "      <td>3732.0</td>\n",
       "      <td>846.0</td>\n",
       "      <td>1277.0</td>\n",
       "      <td>775.0</td>\n",
       "      <td>2.5658</td>\n",
       "      <td>208000.0</td>\n",
       "    </tr>\n",
       "    <tr>\n",
       "      <th>19069</th>\n",
       "      <td>38.27</td>\n",
       "      <td>-122.45</td>\n",
       "      <td>5024.0</td>\n",
       "      <td>881.0</td>\n",
       "      <td>1994.0</td>\n",
       "      <td>838.0</td>\n",
       "      <td>4.2237</td>\n",
       "      <td>262300.0</td>\n",
       "    </tr>\n",
       "    <tr>\n",
       "      <th>19077</th>\n",
       "      <td>38.27</td>\n",
       "      <td>-122.49</td>\n",
       "      <td>5092.0</td>\n",
       "      <td>988.0</td>\n",
       "      <td>1657.0</td>\n",
       "      <td>936.0</td>\n",
       "      <td>3.5625</td>\n",
       "      <td>213200.0</td>\n",
       "    </tr>\n",
       "    <tr>\n",
       "      <th>19104</th>\n",
       "      <td>38.17</td>\n",
       "      <td>-122.51</td>\n",
       "      <td>5875.0</td>\n",
       "      <td>1115.0</td>\n",
       "      <td>2808.0</td>\n",
       "      <td>1029.0</td>\n",
       "      <td>3.6392</td>\n",
       "      <td>246300.0</td>\n",
       "    </tr>\n",
       "  </tbody>\n",
       "</table>\n",
       "<p>2290 rows × 8 columns</p>\n",
       "</div>"
      ],
      "text/plain": [
       "       latitude  longitude  total_rooms  total_bedrooms  population  \\\n",
       "0         37.88    -122.23        880.0           129.0       322.0   \n",
       "1         37.86    -122.22       7099.0          1106.0      2401.0   \n",
       "2         37.85    -122.24       1467.0           190.0       496.0   \n",
       "3         37.85    -122.25       1274.0           235.0       558.0   \n",
       "4         37.85    -122.25       1627.0           280.0       565.0   \n",
       "...         ...        ...          ...             ...         ...   \n",
       "19067     38.28    -122.45       3306.0           503.0      1374.0   \n",
       "19068     38.29    -122.47       3732.0           846.0      1277.0   \n",
       "19069     38.27    -122.45       5024.0           881.0      1994.0   \n",
       "19077     38.27    -122.49       5092.0           988.0      1657.0   \n",
       "19104     38.17    -122.51       5875.0          1115.0      2808.0   \n",
       "\n",
       "       households  median_income  median_house_value  \n",
       "0           126.0         8.3252            452600.0  \n",
       "1          1138.0         8.3014            358500.0  \n",
       "2           177.0         7.2574            352100.0  \n",
       "3           219.0         5.6431            341300.0  \n",
       "4           259.0         3.8462            342200.0  \n",
       "...           ...            ...                 ...  \n",
       "19067       460.0         5.7984            297600.0  \n",
       "19068       775.0         2.5658            208000.0  \n",
       "19069       838.0         4.2237            262300.0  \n",
       "19077       936.0         3.5625            213200.0  \n",
       "19104      1029.0         3.6392            246300.0  \n",
       "\n",
       "[2290 rows x 8 columns]"
      ]
     },
     "execution_count": 9,
     "metadata": {},
     "output_type": "execute_result"
    }
   ],
   "source": [
    "col_needed = [\n",
    "'latitude',\n",
    "'longitude',\n",
    "# 'housing_median_age',\n",
    "'total_rooms',\n",
    "'total_bedrooms',\n",
    "'population',\n",
    "'households',\n",
    "'median_income',\n",
    "'median_house_value'\n",
    "]\n",
    "df = df[df[\"ocean_proximity\"] == \"NEAR BAY\"]\n",
    "df = df[col_needed]\n",
    "df"
   ]
  },
  {
   "cell_type": "code",
   "execution_count": 10,
   "id": "e2bae5d5",
   "metadata": {},
   "outputs": [
    {
     "data": {
      "text/plain": [
       "latitude               0\n",
       "longitude              0\n",
       "total_rooms            0\n",
       "total_bedrooms        20\n",
       "population             0\n",
       "households             0\n",
       "median_income          0\n",
       "median_house_value     0\n",
       "dtype: int64"
      ]
     },
     "execution_count": 10,
     "metadata": {},
     "output_type": "execute_result"
    }
   ],
   "source": [
    "#Check missin value\n",
    "df.isnull().sum()"
   ]
  },
  {
   "cell_type": "code",
   "execution_count": 11,
   "id": "4922d904",
   "metadata": {},
   "outputs": [
    {
     "data": {
      "text/plain": [
       "1033.5"
      ]
     },
     "execution_count": 11,
     "metadata": {},
     "output_type": "execute_result"
    }
   ],
   "source": [
    "#get the median for population\n",
    "np.median(df[\"population\"])"
   ]
  },
  {
   "cell_type": "code",
   "execution_count": 12,
   "id": "790d92d1",
   "metadata": {},
   "outputs": [
    {
     "data": {
      "text/html": [
       "<div>\n",
       "<style scoped>\n",
       "    .dataframe tbody tr th:only-of-type {\n",
       "        vertical-align: middle;\n",
       "    }\n",
       "\n",
       "    .dataframe tbody tr th {\n",
       "        vertical-align: top;\n",
       "    }\n",
       "\n",
       "    .dataframe thead th {\n",
       "        text-align: right;\n",
       "    }\n",
       "</style>\n",
       "<table border=\"1\" class=\"dataframe\">\n",
       "  <thead>\n",
       "    <tr style=\"text-align: right;\">\n",
       "      <th></th>\n",
       "      <th>latitude</th>\n",
       "      <th>longitude</th>\n",
       "      <th>total_rooms</th>\n",
       "      <th>total_bedrooms</th>\n",
       "      <th>population</th>\n",
       "      <th>households</th>\n",
       "      <th>median_income</th>\n",
       "      <th>median_house_value</th>\n",
       "    </tr>\n",
       "  </thead>\n",
       "  <tbody>\n",
       "    <tr>\n",
       "      <th>latitude</th>\n",
       "      <td>1.000000</td>\n",
       "      <td>-0.299335</td>\n",
       "      <td>0.072792</td>\n",
       "      <td>0.042691</td>\n",
       "      <td>0.020603</td>\n",
       "      <td>0.030417</td>\n",
       "      <td>-0.143704</td>\n",
       "      <td>-0.262215</td>\n",
       "    </tr>\n",
       "    <tr>\n",
       "      <th>longitude</th>\n",
       "      <td>-0.299335</td>\n",
       "      <td>1.000000</td>\n",
       "      <td>0.024783</td>\n",
       "      <td>-0.048216</td>\n",
       "      <td>0.028188</td>\n",
       "      <td>-0.036980</td>\n",
       "      <td>0.074884</td>\n",
       "      <td>-0.290433</td>\n",
       "    </tr>\n",
       "    <tr>\n",
       "      <th>total_rooms</th>\n",
       "      <td>0.072792</td>\n",
       "      <td>0.024783</td>\n",
       "      <td>1.000000</td>\n",
       "      <td>0.904325</td>\n",
       "      <td>0.913517</td>\n",
       "      <td>0.915480</td>\n",
       "      <td>0.207447</td>\n",
       "      <td>0.176488</td>\n",
       "    </tr>\n",
       "    <tr>\n",
       "      <th>total_bedrooms</th>\n",
       "      <td>0.042691</td>\n",
       "      <td>-0.048216</td>\n",
       "      <td>0.904325</td>\n",
       "      <td>1.000000</td>\n",
       "      <td>0.904301</td>\n",
       "      <td>0.995360</td>\n",
       "      <td>-0.037619</td>\n",
       "      <td>0.088643</td>\n",
       "    </tr>\n",
       "    <tr>\n",
       "      <th>population</th>\n",
       "      <td>0.020603</td>\n",
       "      <td>0.028188</td>\n",
       "      <td>0.913517</td>\n",
       "      <td>0.904301</td>\n",
       "      <td>1.000000</td>\n",
       "      <td>0.917254</td>\n",
       "      <td>0.009898</td>\n",
       "      <td>0.008793</td>\n",
       "    </tr>\n",
       "    <tr>\n",
       "      <th>households</th>\n",
       "      <td>0.030417</td>\n",
       "      <td>-0.036980</td>\n",
       "      <td>0.915480</td>\n",
       "      <td>0.995360</td>\n",
       "      <td>0.917254</td>\n",
       "      <td>1.000000</td>\n",
       "      <td>-0.019902</td>\n",
       "      <td>0.099096</td>\n",
       "    </tr>\n",
       "    <tr>\n",
       "      <th>median_income</th>\n",
       "      <td>-0.143704</td>\n",
       "      <td>0.074884</td>\n",
       "      <td>0.207447</td>\n",
       "      <td>-0.037619</td>\n",
       "      <td>0.009898</td>\n",
       "      <td>-0.019902</td>\n",
       "      <td>1.000000</td>\n",
       "      <td>0.633208</td>\n",
       "    </tr>\n",
       "    <tr>\n",
       "      <th>median_house_value</th>\n",
       "      <td>-0.262215</td>\n",
       "      <td>-0.290433</td>\n",
       "      <td>0.176488</td>\n",
       "      <td>0.088643</td>\n",
       "      <td>0.008793</td>\n",
       "      <td>0.099096</td>\n",
       "      <td>0.633208</td>\n",
       "      <td>1.000000</td>\n",
       "    </tr>\n",
       "  </tbody>\n",
       "</table>\n",
       "</div>"
      ],
      "text/plain": [
       "                    latitude  longitude  total_rooms  total_bedrooms  \\\n",
       "latitude            1.000000  -0.299335     0.072792        0.042691   \n",
       "longitude          -0.299335   1.000000     0.024783       -0.048216   \n",
       "total_rooms         0.072792   0.024783     1.000000        0.904325   \n",
       "total_bedrooms      0.042691  -0.048216     0.904325        1.000000   \n",
       "population          0.020603   0.028188     0.913517        0.904301   \n",
       "households          0.030417  -0.036980     0.915480        0.995360   \n",
       "median_income      -0.143704   0.074884     0.207447       -0.037619   \n",
       "median_house_value -0.262215  -0.290433     0.176488        0.088643   \n",
       "\n",
       "                    population  households  median_income  median_house_value  \n",
       "latitude              0.020603    0.030417      -0.143704           -0.262215  \n",
       "longitude             0.028188   -0.036980       0.074884           -0.290433  \n",
       "total_rooms           0.913517    0.915480       0.207447            0.176488  \n",
       "total_bedrooms        0.904301    0.995360      -0.037619            0.088643  \n",
       "population            1.000000    0.917254       0.009898            0.008793  \n",
       "households            0.917254    1.000000      -0.019902            0.099096  \n",
       "median_income         0.009898   -0.019902       1.000000            0.633208  \n",
       "median_house_value    0.008793    0.099096       0.633208            1.000000  "
      ]
     },
     "execution_count": 12,
     "metadata": {},
     "output_type": "execute_result"
    }
   ],
   "source": [
    "#Check the correlation of the data\n",
    "df.corr()"
   ]
  },
  {
   "cell_type": "code",
   "execution_count": 13,
   "id": "9b33d447",
   "metadata": {},
   "outputs": [
    {
     "data": {
      "image/png": "[encoded data removed]",
      "text/plain": [
       "<Figure size 864x576 with 2 Axes>"
      ]
     },
     "metadata": {
      "needs_background": "light"
     },
     "output_type": "display_data"
    }
   ],
   "source": [
    "correlations = abs(round(df.corr(), 3))\n",
    "plt.figure(figsize=(12,8))\n",
    "sns.heatmap(correlations, annot=True, cmap=\"Blues\")\n",
    "plt.tight_layout()\n",
    "plt.show()"
   ]
  },
  {
   "cell_type": "code",
   "execution_count": 14,
   "id": "6b461bbd",
   "metadata": {},
   "outputs": [
    {
     "data": {
      "text/plain": [
       "(1374, 458, 458)"
      ]
     },
     "execution_count": 14,
     "metadata": {},
     "output_type": "execute_result"
    }
   ],
   "source": [
    "df_train, df_val, df_test = split_data(df, 42)\n",
    "\n",
    "len(df_train), len(df_val), len(df_test)"
   ]
  },
  {
   "cell_type": "code",
   "execution_count": 15,
   "id": "7f351760",
   "metadata": {},
   "outputs": [
    {
     "data": {
      "text/html": [
       "<div>\n",
       "<style scoped>\n",
       "    .dataframe tbody tr th:only-of-type {\n",
       "        vertical-align: middle;\n",
       "    }\n",
       "\n",
       "    .dataframe tbody tr th {\n",
       "        vertical-align: top;\n",
       "    }\n",
       "\n",
       "    .dataframe thead th {\n",
       "        text-align: right;\n",
       "    }\n",
       "</style>\n",
       "<table border=\"1\" class=\"dataframe\">\n",
       "  <thead>\n",
       "    <tr style=\"text-align: right;\">\n",
       "      <th></th>\n",
       "      <th>latitude</th>\n",
       "      <th>longitude</th>\n",
       "      <th>total_rooms</th>\n",
       "      <th>total_bedrooms</th>\n",
       "      <th>population</th>\n",
       "      <th>households</th>\n",
       "      <th>median_income</th>\n",
       "      <th>median_house_value</th>\n",
       "    </tr>\n",
       "  </thead>\n",
       "  <tbody>\n",
       "    <tr>\n",
       "      <th>0</th>\n",
       "      <td>37.75</td>\n",
       "      <td>-122.14</td>\n",
       "      <td>1334.0</td>\n",
       "      <td>200.0</td>\n",
       "      <td>579.0</td>\n",
       "      <td>202.0</td>\n",
       "      <td>6.8323</td>\n",
       "      <td>255900.0</td>\n",
       "    </tr>\n",
       "    <tr>\n",
       "      <th>1</th>\n",
       "      <td>37.92</td>\n",
       "      <td>-122.36</td>\n",
       "      <td>215.0</td>\n",
       "      <td>41.0</td>\n",
       "      <td>126.0</td>\n",
       "      <td>43.0</td>\n",
       "      <td>1.3929</td>\n",
       "      <td>104200.0</td>\n",
       "    </tr>\n",
       "    <tr>\n",
       "      <th>2</th>\n",
       "      <td>37.81</td>\n",
       "      <td>-122.28</td>\n",
       "      <td>1207.0</td>\n",
       "      <td>243.0</td>\n",
       "      <td>721.0</td>\n",
       "      <td>207.0</td>\n",
       "      <td>1.1111</td>\n",
       "      <td>108300.0</td>\n",
       "    </tr>\n",
       "    <tr>\n",
       "      <th>3</th>\n",
       "      <td>37.85</td>\n",
       "      <td>-122.28</td>\n",
       "      <td>1898.0</td>\n",
       "      <td>421.0</td>\n",
       "      <td>1102.0</td>\n",
       "      <td>397.0</td>\n",
       "      <td>1.8080</td>\n",
       "      <td>105500.0</td>\n",
       "    </tr>\n",
       "    <tr>\n",
       "      <th>4</th>\n",
       "      <td>37.76</td>\n",
       "      <td>-122.45</td>\n",
       "      <td>5283.0</td>\n",
       "      <td>1330.0</td>\n",
       "      <td>2659.0</td>\n",
       "      <td>1269.0</td>\n",
       "      <td>3.5744</td>\n",
       "      <td>500000.0</td>\n",
       "    </tr>\n",
       "    <tr>\n",
       "      <th>...</th>\n",
       "      <td>...</td>\n",
       "      <td>...</td>\n",
       "      <td>...</td>\n",
       "      <td>...</td>\n",
       "      <td>...</td>\n",
       "      <td>...</td>\n",
       "      <td>...</td>\n",
       "      <td>...</td>\n",
       "    </tr>\n",
       "    <tr>\n",
       "      <th>453</th>\n",
       "      <td>37.87</td>\n",
       "      <td>-122.30</td>\n",
       "      <td>3123.0</td>\n",
       "      <td>749.0</td>\n",
       "      <td>1695.0</td>\n",
       "      <td>684.0</td>\n",
       "      <td>2.2208</td>\n",
       "      <td>144800.0</td>\n",
       "    </tr>\n",
       "    <tr>\n",
       "      <th>454</th>\n",
       "      <td>37.76</td>\n",
       "      <td>-122.49</td>\n",
       "      <td>2564.0</td>\n",
       "      <td>502.0</td>\n",
       "      <td>1092.0</td>\n",
       "      <td>459.0</td>\n",
       "      <td>3.5302</td>\n",
       "      <td>329600.0</td>\n",
       "    </tr>\n",
       "    <tr>\n",
       "      <th>455</th>\n",
       "      <td>37.65</td>\n",
       "      <td>-122.08</td>\n",
       "      <td>1813.0</td>\n",
       "      <td>393.0</td>\n",
       "      <td>1093.0</td>\n",
       "      <td>374.0</td>\n",
       "      <td>3.6818</td>\n",
       "      <td>165400.0</td>\n",
       "    </tr>\n",
       "    <tr>\n",
       "      <th>456</th>\n",
       "      <td>37.92</td>\n",
       "      <td>-122.32</td>\n",
       "      <td>2304.0</td>\n",
       "      <td>399.0</td>\n",
       "      <td>1377.0</td>\n",
       "      <td>454.0</td>\n",
       "      <td>5.0187</td>\n",
       "      <td>140600.0</td>\n",
       "    </tr>\n",
       "    <tr>\n",
       "      <th>457</th>\n",
       "      <td>37.95</td>\n",
       "      <td>-122.34</td>\n",
       "      <td>1675.0</td>\n",
       "      <td>317.0</td>\n",
       "      <td>806.0</td>\n",
       "      <td>311.0</td>\n",
       "      <td>3.0694</td>\n",
       "      <td>135300.0</td>\n",
       "    </tr>\n",
       "  </tbody>\n",
       "</table>\n",
       "<p>458 rows × 8 columns</p>\n",
       "</div>"
      ],
      "text/plain": [
       "     latitude  longitude  total_rooms  total_bedrooms  population  households  \\\n",
       "0       37.75    -122.14       1334.0           200.0       579.0       202.0   \n",
       "1       37.92    -122.36        215.0            41.0       126.0        43.0   \n",
       "2       37.81    -122.28       1207.0           243.0       721.0       207.0   \n",
       "3       37.85    -122.28       1898.0           421.0      1102.0       397.0   \n",
       "4       37.76    -122.45       5283.0          1330.0      2659.0      1269.0   \n",
       "..        ...        ...          ...             ...         ...         ...   \n",
       "453     37.87    -122.30       3123.0           749.0      1695.0       684.0   \n",
       "454     37.76    -122.49       2564.0           502.0      1092.0       459.0   \n",
       "455     37.65    -122.08       1813.0           393.0      1093.0       374.0   \n",
       "456     37.92    -122.32       2304.0           399.0      1377.0       454.0   \n",
       "457     37.95    -122.34       1675.0           317.0       806.0       311.0   \n",
       "\n",
       "     median_income  median_house_value  \n",
       "0           6.8323            255900.0  \n",
       "1           1.3929            104200.0  \n",
       "2           1.1111            108300.0  \n",
       "3           1.8080            105500.0  \n",
       "4           3.5744            500000.0  \n",
       "..             ...                 ...  \n",
       "453         2.2208            144800.0  \n",
       "454         3.5302            329600.0  \n",
       "455         3.6818            165400.0  \n",
       "456         5.0187            140600.0  \n",
       "457         3.0694            135300.0  \n",
       "\n",
       "[458 rows x 8 columns]"
      ]
     },
     "execution_count": 15,
     "metadata": {},
     "output_type": "execute_result"
    }
   ],
   "source": [
    "df_val"
   ]
  },
  {
   "cell_type": "code",
   "execution_count": 16,
   "id": "1efe6b0b",
   "metadata": {},
   "outputs": [],
   "source": [
    "y_train_orig = df_train['median_house_value'].values\n",
    "y_val_orig = df_val['median_house_value'].values\n",
    "y_test_orig = df_test['median_house_value'].values\n",
    "\n",
    "y_train = np.log1p(df_train['median_house_value'].values)\n",
    "y_val = np.log1p(df_val['median_house_value'].values)\n",
    "y_test = np.log1p(df_test['median_house_value'].values)\n",
    "\n",
    "del df_train['median_house_value']\n",
    "del df_val['median_house_value']\n",
    "del df_test['median_house_value']"
   ]
  },
  {
   "cell_type": "code",
   "execution_count": 17,
   "id": "33ff46e9",
   "metadata": {},
   "outputs": [
    {
     "data": {
      "text/html": [
       "<div>\n",
       "<style scoped>\n",
       "    .dataframe tbody tr th:only-of-type {\n",
       "        vertical-align: middle;\n",
       "    }\n",
       "\n",
       "    .dataframe tbody tr th {\n",
       "        vertical-align: top;\n",
       "    }\n",
       "\n",
       "    .dataframe thead th {\n",
       "        text-align: right;\n",
       "    }\n",
       "</style>\n",
       "<table border=\"1\" class=\"dataframe\">\n",
       "  <thead>\n",
       "    <tr style=\"text-align: right;\">\n",
       "      <th></th>\n",
       "      <th>latitude</th>\n",
       "      <th>longitude</th>\n",
       "      <th>total_rooms</th>\n",
       "      <th>total_bedrooms</th>\n",
       "      <th>population</th>\n",
       "      <th>households</th>\n",
       "      <th>median_income</th>\n",
       "    </tr>\n",
       "  </thead>\n",
       "  <tbody>\n",
       "    <tr>\n",
       "      <th>0</th>\n",
       "      <td>37.44</td>\n",
       "      <td>-122.14</td>\n",
       "      <td>3117.0</td>\n",
       "      <td>468.0</td>\n",
       "      <td>1114.0</td>\n",
       "      <td>421.0</td>\n",
       "      <td>6.6756</td>\n",
       "    </tr>\n",
       "    <tr>\n",
       "      <th>1</th>\n",
       "      <td>37.91</td>\n",
       "      <td>-122.30</td>\n",
       "      <td>2866.0</td>\n",
       "      <td>617.0</td>\n",
       "      <td>1305.0</td>\n",
       "      <td>589.0</td>\n",
       "      <td>3.6321</td>\n",
       "    </tr>\n",
       "    <tr>\n",
       "      <th>2</th>\n",
       "      <td>37.92</td>\n",
       "      <td>-122.30</td>\n",
       "      <td>1615.0</td>\n",
       "      <td>271.0</td>\n",
       "      <td>710.0</td>\n",
       "      <td>285.0</td>\n",
       "      <td>4.0804</td>\n",
       "    </tr>\n",
       "    <tr>\n",
       "      <th>3</th>\n",
       "      <td>37.83</td>\n",
       "      <td>-122.26</td>\n",
       "      <td>1443.0</td>\n",
       "      <td>311.0</td>\n",
       "      <td>660.0</td>\n",
       "      <td>292.0</td>\n",
       "      <td>3.0125</td>\n",
       "    </tr>\n",
       "    <tr>\n",
       "      <th>4</th>\n",
       "      <td>37.47</td>\n",
       "      <td>-122.20</td>\n",
       "      <td>2959.0</td>\n",
       "      <td>389.0</td>\n",
       "      <td>985.0</td>\n",
       "      <td>365.0</td>\n",
       "      <td>9.9025</td>\n",
       "    </tr>\n",
       "    <tr>\n",
       "      <th>...</th>\n",
       "      <td>...</td>\n",
       "      <td>...</td>\n",
       "      <td>...</td>\n",
       "      <td>...</td>\n",
       "      <td>...</td>\n",
       "      <td>...</td>\n",
       "      <td>...</td>\n",
       "    </tr>\n",
       "    <tr>\n",
       "      <th>1369</th>\n",
       "      <td>37.76</td>\n",
       "      <td>-122.45</td>\n",
       "      <td>1457.0</td>\n",
       "      <td>292.0</td>\n",
       "      <td>621.0</td>\n",
       "      <td>315.0</td>\n",
       "      <td>4.6477</td>\n",
       "    </tr>\n",
       "    <tr>\n",
       "      <th>1370</th>\n",
       "      <td>37.96</td>\n",
       "      <td>-122.51</td>\n",
       "      <td>3302.0</td>\n",
       "      <td>684.0</td>\n",
       "      <td>1574.0</td>\n",
       "      <td>653.0</td>\n",
       "      <td>3.6863</td>\n",
       "    </tr>\n",
       "    <tr>\n",
       "      <th>1371</th>\n",
       "      <td>37.38</td>\n",
       "      <td>-122.08</td>\n",
       "      <td>1199.0</td>\n",
       "      <td>198.0</td>\n",
       "      <td>485.0</td>\n",
       "      <td>199.0</td>\n",
       "      <td>5.0796</td>\n",
       "    </tr>\n",
       "    <tr>\n",
       "      <th>1372</th>\n",
       "      <td>37.93</td>\n",
       "      <td>-122.48</td>\n",
       "      <td>2947.0</td>\n",
       "      <td>802.0</td>\n",
       "      <td>1385.0</td>\n",
       "      <td>743.0</td>\n",
       "      <td>3.6731</td>\n",
       "    </tr>\n",
       "    <tr>\n",
       "      <th>1373</th>\n",
       "      <td>37.70</td>\n",
       "      <td>-122.16</td>\n",
       "      <td>2239.0</td>\n",
       "      <td>391.0</td>\n",
       "      <td>1203.0</td>\n",
       "      <td>379.0</td>\n",
       "      <td>5.0043</td>\n",
       "    </tr>\n",
       "  </tbody>\n",
       "</table>\n",
       "<p>1374 rows × 7 columns</p>\n",
       "</div>"
      ],
      "text/plain": [
       "      latitude  longitude  total_rooms  total_bedrooms  population  \\\n",
       "0        37.44    -122.14       3117.0           468.0      1114.0   \n",
       "1        37.91    -122.30       2866.0           617.0      1305.0   \n",
       "2        37.92    -122.30       1615.0           271.0       710.0   \n",
       "3        37.83    -122.26       1443.0           311.0       660.0   \n",
       "4        37.47    -122.20       2959.0           389.0       985.0   \n",
       "...        ...        ...          ...             ...         ...   \n",
       "1369     37.76    -122.45       1457.0           292.0       621.0   \n",
       "1370     37.96    -122.51       3302.0           684.0      1574.0   \n",
       "1371     37.38    -122.08       1199.0           198.0       485.0   \n",
       "1372     37.93    -122.48       2947.0           802.0      1385.0   \n",
       "1373     37.70    -122.16       2239.0           391.0      1203.0   \n",
       "\n",
       "      households  median_income  \n",
       "0          421.0         6.6756  \n",
       "1          589.0         3.6321  \n",
       "2          285.0         4.0804  \n",
       "3          292.0         3.0125  \n",
       "4          365.0         9.9025  \n",
       "...          ...            ...  \n",
       "1369       315.0         4.6477  \n",
       "1370       653.0         3.6863  \n",
       "1371       199.0         5.0796  \n",
       "1372       743.0         3.6731  \n",
       "1373       379.0         5.0043  \n",
       "\n",
       "[1374 rows x 7 columns]"
      ]
     },
     "execution_count": 17,
     "metadata": {},
     "output_type": "execute_result"
    }
   ],
   "source": [
    "df_train"
   ]
  },
  {
   "cell_type": "markdown",
   "id": "ce162d41",
   "metadata": {},
   "source": [
    "### Train without Regularization"
   ]
  },
  {
   "cell_type": "code",
   "execution_count": 18,
   "id": "e21de7b7",
   "metadata": {},
   "outputs": [],
   "source": [
    "#Calculate the mean of the missing value\n",
    "total_bed_mean = np.mean(df_train[\"total_bedrooms\"])"
   ]
  },
  {
   "cell_type": "code",
   "execution_count": 19,
   "id": "7c0cff2a",
   "metadata": {},
   "outputs": [],
   "source": [
    "X_train = prepare_X(df_train)\n",
    "w_0, w = train_linear_regression(X_train, y_train)\n",
    "\n",
    "X_val = prepare_X(df_val)\n",
    "y_pred = w_0 + X_val.dot(w)\n"
   ]
  },
  {
   "cell_type": "code",
   "execution_count": 20,
   "id": "5e141026",
   "metadata": {},
   "outputs": [
    {
     "data": {
      "text/plain": [
       "0.34"
      ]
     },
     "execution_count": 20,
     "metadata": {},
     "output_type": "execute_result"
    }
   ],
   "source": [
    "round(rmse(y_val, y_pred), 2)"
   ]
  },
  {
   "cell_type": "code",
   "execution_count": 21,
   "id": "b8405b4f",
   "metadata": {},
   "outputs": [
    {
     "data": {
      "text/plain": [
       "0.34"
      ]
     },
     "execution_count": 21,
     "metadata": {},
     "output_type": "execute_result"
    }
   ],
   "source": [
    "# RMSE With the mean\n",
    "X_train = prepare_X(df_train, total_bed_mean)\n",
    "w_0, w = train_linear_regression(X_train, y_train)\n",
    "\n",
    "X_val = prepare_X(df_val)\n",
    "y_pred = w_0 + X_val.dot(w)\n",
    "\n",
    "round(rmse(y_val, y_pred), 2)"
   ]
  },
  {
   "cell_type": "code",
   "execution_count": 22,
   "id": "b0a6542b",
   "metadata": {},
   "outputs": [
    {
     "data": {
      "image/png": "[encoded data removed]",
      "text/plain": [
       "<Figure size 432x288 with 1 Axes>"
      ]
     },
     "metadata": {
      "needs_background": "light"
     },
     "output_type": "display_data"
    }
   ],
   "source": [
    "plt.figure(figsize=(6, 4))\n",
    "\n",
    "sns.histplot(y_train, label='target', color='#222222', alpha=0.6, bins=40)\n",
    "sns.histplot(y_pred, label='prediction', color='#aaaaaa', alpha=0.8, bins=40)\n",
    "\n",
    "plt.legend()\n",
    "\n",
    "plt.ylabel('Frequency')\n",
    "plt.xlabel('Log(Price + 1)')\n",
    "plt.title('Predictions vs actual distribution')\n",
    "\n",
    "plt.show()"
   ]
  },
  {
   "cell_type": "code",
   "execution_count": 23,
   "id": "bb676406",
   "metadata": {},
   "outputs": [
    {
     "name": "stdout",
     "output_type": "stream",
     "text": [
      "0 0.33551\n",
      "1e-06 0.33551\n",
      "0.0001 0.33587\n",
      "0.001 0.34023\n",
      "0.01 0.35569\n",
      "0.1 0.3618\n",
      "1 0.36267\n",
      "5 0.3634\n",
      "10 0.36449\n"
     ]
    }
   ],
   "source": [
    "r = [0, 0.000001, 0.0001, 0.001, 0.01, 0.1, 1, 5, 10]\n",
    "for v in r:\n",
    "    X_train = prepare_X(df_train, total_bed_mean)\n",
    "    w_0, w = train_linear_regression_reg(X_train, y_train, v)\n",
    "    X_val = prepare_X(df_val)\n",
    "    y_pred = w_0 + X_val.dot(w)\n",
    "    score = round(rmse(y_val, y_pred), 5)\n",
    "    print(v, score)"
   ]
  },
  {
   "cell_type": "markdown",
   "id": "026db59c",
   "metadata": {},
   "source": [
    "### Split the data based on different seed"
   ]
  },
  {
   "cell_type": "code",
   "execution_count": 24,
   "id": "0565d852",
   "metadata": {},
   "outputs": [],
   "source": [
    "def score_at_difseed(se):\n",
    "    df_train, df_val, df_test = split_data(df, se)\n",
    "    y_train_orig = df_train['median_house_value'].values\n",
    "    y_val_orig = df_val['median_house_value'].values\n",
    "    y_test_orig = df_test['median_house_value'].values\n",
    "    \n",
    "    y_train = np.log1p(df_train['median_house_value'].values)\n",
    "    y_val = np.log1p(df_val['median_house_value'].values)\n",
    "    y_test = np.log1p(df_test['median_house_value'].values)\n",
    "    \n",
    "    X_train = prepare_X(df_train)\n",
    "    w_0, w = train_linear_regression_reg(X_train, y_train)\n",
    "    X_val = prepare_X(df_val)\n",
    "    y_pred = w_0 + X_val.dot(w)\n",
    "    \n",
    "    return rmse(y_val, y_pred)"
   ]
  },
  {
   "cell_type": "code",
   "execution_count": 25,
   "id": "0b034137",
   "metadata": {},
   "outputs": [
    {
     "data": {
      "text/plain": [
       "0.00581"
      ]
     },
     "execution_count": 25,
     "metadata": {},
     "output_type": "execute_result"
    }
   ],
   "source": [
    "seeds = [0, 1, 2, 3, 4, 5, 6, 7, 8, 9]\n",
    "sd = []\n",
    "for s in seeds:\n",
    "    sd.append(score_at_difseed(s))\n",
    "    \n",
    "sd = np.array(sd)\n",
    "round(np.std(sd), 5)"
   ]
  },
  {
   "cell_type": "markdown",
   "id": "90f27027",
   "metadata": {},
   "source": [
    "### Resplit the dataset using seed 9"
   ]
  },
  {
   "cell_type": "code",
   "execution_count": 26,
   "id": "67b50fe9",
   "metadata": {},
   "outputs": [],
   "source": [
    "df_train, df_val, df_test = split_data(df, 9)"
   ]
  },
  {
   "cell_type": "code",
   "execution_count": 27,
   "id": "acb03d3e",
   "metadata": {},
   "outputs": [
    {
     "name": "stdout",
     "output_type": "stream",
     "text": [
      "92500.0\n"
     ]
    }
   ],
   "source": [
    "y_train_orig = df_train['median_house_value'].values\n",
    "y_val_orig = df_val['median_house_value'].values\n",
    "y_test_orig = df_test['median_house_value'].values\n",
    "print(y_test_orig[20])\n",
    "y_train = np.log1p(df_train['median_house_value'].values)\n",
    "y_val = np.log1p(df_val['median_house_value'].values)\n",
    "y_test = np.log1p(df_test['median_house_value'].values)\n",
    "\n",
    "del df_train['median_house_value']\n",
    "del df_val['median_house_value']\n",
    "del df_test['median_house_value']"
   ]
  },
  {
   "cell_type": "code",
   "execution_count": 28,
   "id": "e02f8b6a",
   "metadata": {},
   "outputs": [
    {
     "data": {
      "text/plain": [
       "(1832, 7)"
      ]
     },
     "execution_count": 28,
     "metadata": {},
     "output_type": "execute_result"
    }
   ],
   "source": [
    "#Combining the models\n",
    "df_full = pd.concat([df_train, df_val])\n",
    "df_full = df_full.reset_index(drop=True)\n",
    "X_full_train = prepare_X(df_full, 0)\n",
    "X_full_train.shape"
   ]
  },
  {
   "cell_type": "code",
   "execution_count": 29,
   "id": "b6db21d9",
   "metadata": {},
   "outputs": [
    {
     "data": {
      "text/plain": [
       "array([11.32781201, 11.82188701, 12.82099068, ..., 11.85225789,\n",
       "       12.4292202 , 12.59269806])"
      ]
     },
     "execution_count": 29,
     "metadata": {},
     "output_type": "execute_result"
    }
   ],
   "source": [
    "y_full = np.concatenate([y_train, y_val])\n",
    "y_full"
   ]
  },
  {
   "cell_type": "code",
   "execution_count": 30,
   "id": "895ce765",
   "metadata": {},
   "outputs": [
    {
     "data": {
      "text/plain": [
       "0.31709655814593873"
      ]
     },
     "execution_count": 30,
     "metadata": {},
     "output_type": "execute_result"
    }
   ],
   "source": [
    "w0, w = train_linear_regression_reg(X_full_train, y_full, r=0.0001)\n",
    "X_test = prepare_X(df_test)\n",
    "y_pred = w0 + X_test.dot(w)\n",
    "\n",
    "rmse(y_test, y_pred)"
   ]
  },
  {
   "cell_type": "code",
   "execution_count": 31,
   "id": "5ec0a26b",
   "metadata": {},
   "outputs": [
    {
     "data": {
      "image/png": "[encoded data removed]",
      "text/plain": [
       "<Figure size 432x288 with 1 Axes>"
      ]
     },
     "metadata": {
      "needs_background": "light"
     },
     "output_type": "display_data"
    }
   ],
   "source": [
    "plt.figure(figsize=(6, 4))\n",
    "\n",
    "sns.histplot(y_test, label='target', color='blue', alpha=0.6, bins=40)\n",
    "sns.histplot(y_pred, label='prediction', color='red', alpha=0.8, bins=40)\n",
    "\n",
    "plt.legend()\n",
    "\n",
    "plt.ylabel('Frequency')\n",
    "plt.xlabel('Log(Price + 1)')\n",
    "plt.title('Predictions vs actual distribution')\n",
    "\n",
    "plt.show()"
   ]
  },
  {
   "cell_type": "code",
   "execution_count": 32,
   "id": "993252c7",
   "metadata": {},
   "outputs": [
    {
     "data": {
      "text/plain": [
       "{'latitude': 37.97,\n",
       " 'longitude': -122.3,\n",
       " 'total_rooms': 4030.0,\n",
       " 'total_bedrooms': 772.0,\n",
       " 'population': 1777.0,\n",
       " 'households': 718.0,\n",
       " 'median_income': 3.6393}"
      ]
     },
     "execution_count": 32,
     "metadata": {},
     "output_type": "execute_result"
    }
   ],
   "source": [
    "i = 30\n",
    "ad = df_test.iloc[i].to_dict()\n",
    "ad"
   ]
  },
  {
   "cell_type": "code",
   "execution_count": 33,
   "id": "aec3dc5f",
   "metadata": {},
   "outputs": [],
   "source": [
    "ab={'latitude': 37.97,\n",
    " 'longitude': -122.3,\n",
    " 'total_rooms': 4450.0,\n",
    " 'total_bedrooms': 822.0,\n",
    " 'population': 1977.0,\n",
    " 'households': 918.0,\n",
    " 'median_income': 4.1993}"
   ]
  },
  {
   "cell_type": "code",
   "execution_count": 34,
   "id": "4160619a",
   "metadata": {},
   "outputs": [
    {
     "data": {
      "text/plain": [
       "208904.79857123696"
      ]
     },
     "execution_count": 34,
     "metadata": {},
     "output_type": "execute_result"
    }
   ],
   "source": [
    "X_test = prepare_X(pd.DataFrame([ad]))[0]\n",
    "y_pred = w0 + X_test.dot(w)\n",
    "suggestion = np.expm1(y_pred)\n",
    "suggestion\n"
   ]
  },
  {
   "cell_type": "code",
   "execution_count": 35,
   "id": "cea50769",
   "metadata": {},
   "outputs": [
    {
     "data": {
      "text/plain": [
       "251822.629226808"
      ]
     },
     "execution_count": 35,
     "metadata": {},
     "output_type": "execute_result"
    }
   ],
   "source": [
    "X_test = prepare_X(pd.DataFrame([ab]))[0]\n",
    "y_pred = w0 + X_test.dot(w)\n",
    "suggestion = np.expm1(y_pred)\n",
    "suggestion"
   ]
  },
  {
   "cell_type": "code",
   "execution_count": 36,
   "id": "df8f28fe",
   "metadata": {},
   "outputs": [
    {
     "data": {
      "text/plain": [
       "184000.00000000015"
      ]
     },
     "execution_count": 36,
     "metadata": {},
     "output_type": "execute_result"
    }
   ],
   "source": [
    "np.expm1(y_test[30])"
   ]
  },
  {
   "cell_type": "markdown",
   "id": "5bf43e03",
   "metadata": {},
   "source": [
    "## Train the model using Sklearn"
   ]
  },
  {
   "cell_type": "code",
   "execution_count": 37,
   "id": "a8f51ad6",
   "metadata": {},
   "outputs": [],
   "source": [
    "from sklearn.model_selection import train_test_split\n",
    "from sklearn.linear_model import SGDRegressor "
   ]
  },
  {
   "cell_type": "code",
   "execution_count": 38,
   "id": "21150d6e",
   "metadata": {},
   "outputs": [],
   "source": [
    "data = prepare_X(df, 0)\n",
    "X = data[:, 1:]\n",
    "y = data[:, 0] \n",
    "X_train, X_test, y_train, y_test = train_test_split(X, y, test_size=0.30, random_state=52)"
   ]
  },
  {
   "cell_type": "code",
   "execution_count": 39,
   "id": "131f0538",
   "metadata": {},
   "outputs": [
    {
     "name": "stdout",
     "output_type": "stream",
     "text": [
      "Training features shape: (1603, 7)\n",
      "Testing features shape: (687, 7)\n",
      "Training label shape: (1603,)\n",
      "Testing label shape: (687,)\n"
     ]
    }
   ],
   "source": [
    "print(f\"Training features shape: {X_train.shape}\")\n",
    "print(f\"Testing features shape: {X_test.shape}\")\n",
    "print(f\"Training label shape: {y_train.shape}\")\n",
    "print(f\"Testing label shape: {y_test.shape}\")"
   ]
  },
  {
   "cell_type": "code",
   "execution_count": 40,
   "id": "78e621e3",
   "metadata": {},
   "outputs": [
    {
     "name": "stderr",
     "output_type": "stream",
     "text": [
      "C:\\Users\\user\\anaconda3\\lib\\site-packages\\sklearn\\linear_model\\_stochastic_gradient.py:1503: ConvergenceWarning: Maximum number of iteration reached before convergence. Consider increasing max_iter to improve the fit.\n",
      "  warnings.warn(\n"
     ]
    },
    {
     "data": {
      "text/plain": [
       "SGDRegressor(learning_rate='optimal', loss='huber', penalty='elasticnet',\n",
       "             random_state=52)"
      ]
     },
     "execution_count": 40,
     "metadata": {},
     "output_type": "execute_result"
    }
   ],
   "source": [
    "sgd_v1 = SGDRegressor(alpha=0.0001, learning_rate='optimal', loss='huber', \n",
    "    penalty='elasticnet', random_state = 52)\n",
    "\n",
    "sgd_v1.fit(X_train, y_train)"
   ]
  },
  {
   "cell_type": "code",
   "execution_count": 41,
   "id": "c6cc19de",
   "metadata": {},
   "outputs": [],
   "source": [
    "y_pred_v1 = sgd_v1.predict(X_test)"
   ]
  },
  {
   "cell_type": "code",
   "execution_count": 42,
   "id": "ed56ee86",
   "metadata": {},
   "outputs": [
    {
     "name": "stdout",
     "output_type": "stream",
     "text": [
      "Mean squared error: 18665831310247.832\n",
      "R2 score: -564212448323858.2\n",
      "Mean absolute error: 3926938.531\n"
     ]
    }
   ],
   "source": [
    "from sklearn.metrics import mean_squared_error, r2_score,mean_absolute_error\n",
    "# The mean squared error\n",
    "print(f\"Mean squared error: {round( mean_squared_error(y_test, y_pred_v1),3)}\")\n",
    "# Explained variance score: 1 is perfect prediction\n",
    "print(f\"R2 score: {round(r2_score(y_test, y_pred_v1),3)}\")\n",
    "# Mean Absolute Error\n",
    "print(f\"Mean absolute error: { round(mean_absolute_error(y_test, y_pred_v1),3)}\")"
   ]
  },
  {
   "cell_type": "code",
   "execution_count": 43,
   "id": "53d81362",
   "metadata": {},
   "outputs": [],
   "source": [
    "from sklearn.preprocessing import StandardScaler\n",
    "\n",
    "scaler = StandardScaler()\n",
    "scaler.fit(X_train)\n",
    "X_train_scaled = scaler.transform(X_train)\n",
    "X_test_scaled = scaler.transform(X_test)"
   ]
  },
  {
   "cell_type": "code",
   "execution_count": 44,
   "id": "56307843",
   "metadata": {},
   "outputs": [
    {
     "data": {
      "text/plain": [
       "SGDRegressor(learning_rate='optimal', loss='huber', penalty='elasticnet',\n",
       "             random_state=52)"
      ]
     },
     "execution_count": 44,
     "metadata": {},
     "output_type": "execute_result"
    }
   ],
   "source": [
    "sgd_v2 = SGDRegressor(alpha=0.0001, learning_rate='optimal', loss='huber', \n",
    "    penalty='elasticnet', random_state = 52)\n",
    "sgd_v2.fit(X_train_scaled, y_train)"
   ]
  },
  {
   "cell_type": "code",
   "execution_count": 45,
   "id": "a0f78cd8",
   "metadata": {},
   "outputs": [
    {
     "name": "stdout",
     "output_type": "stream",
     "text": [
      "Mean squared error: 0.065\n",
      "R2 score: -0.962\n",
      "Mean absolute error: 0.197\n"
     ]
    }
   ],
   "source": [
    "y_pred_v2 = sgd_v2.predict(X_test_scaled) \n",
    "# The mean squared error\n",
    "print(f\"Mean squared error: {round( mean_squared_error(y_test, y_pred_v2),3)}\")\n",
    "# Explained variance score: 1 is perfect prediction\n",
    "print(f\"R2 score: {round(r2_score(y_test, y_pred_v2),3)}\")\n",
    "# Mean Absolute Error\n",
    "print(f\"Mean absolute error: { round(mean_absolute_error(y_test, y_pred_v2),3)}\")"
   ]
  }
 ],
 "metadata": {
  "kernelspec": {
   "display_name": "Python 3 (ipykernel)",
   "language": "python",
   "name": "python3"
  },
  "language_info": {
   "codemirror_mode": {
    "name": "ipython",
    "version": 3
   },
   "file_extension": ".py",
   "mimetype": "text/x-python",
   "name": "python",
   "nbconvert_exporter": "python",
   "pygments_lexer": "ipython3",
   "version": "3.9.12"
  }
 },
 "nbformat": 4,
 "nbformat_minor": 5
}
